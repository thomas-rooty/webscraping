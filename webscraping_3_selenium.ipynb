{
 "cells": [
  {
   "cell_type": "markdown",
   "metadata": {
    "id": "qWUK25s9YosK"
   },
   "source": [
    "# 3. Web Scraping - Selenium\n",
    "\n",
    "<img src = 'https://xn--kvin-duranty-beb.fr/wp-content/uploads/2022/10/Web-Scraping-_-IPSSI-PRS-2.png' >\n",
    "\n",
    "\n",
    "\n",
    "Dans cet exercice, nous utiliserons la bibliothèque Selenium afin de collecter les données des sites internet suivants :\n",
    "\n",
    "- Partie 1 : [Doctolib](https://www.doctolib.fr/dentiste/paris)\n",
    "Nous continuerons là où Beautifullsoup montrait ses limites en collectant de manière automatisée toutes les pages référencées par Doctolib.\n",
    "\n",
    "\n",
    "- Partie 2 : [Les Echos](https://www.lesechos.fr/)\n",
    "Nous collecterons les articles correspondants à la thématique `Intelligence artificielle`.\n",
    "\n",
    "\n",
    "\n",
    "# **Partie 1 - [Doctolib](https://www.doctolib.fr/)**\n",
    "\n",
    "\n",
    "<img src='https://upload.wikimedia.org/wikipedia/fr/thumb/7/7f/Logo-doctolib.svg/640px-Logo-doctolib.svg.png'>\n",
    "\n",
    "\n",
    "Les informations que nous souhaitons collecter sont les suivantes :\n",
    "- le nom du praticien\n",
    "- la profession du praticien\n",
    "- l'adresse du praticien\n",
    "- la ville du praticien\n",
    "- l'image de la fiche Doctolib du praticien\n",
    "\n",
    "\n",
    "\n",
    "## 3.1 Installez la bibliothèque Selenium\n",
    "Utilitisez la commande suivante dans votre terminal :  `pip install selenium`"
   ]
  },
  {
   "cell_type": "markdown",
   "metadata": {
    "id": "mR9D9-6FApfo"
   },
   "source": [
    "## 3.2 Télécharger le webdriver [chrome](https://chromedriver.chromium.org/downloads)\n",
    "Placez le ensuite dans le dossier Web-scraping"
   ]
  },
  {
   "cell_type": "markdown",
   "metadata": {
    "id": "uwkgd4d2Apfo"
   },
   "source": [
    "## 3.3 Importer l'objet `webdriver`de la bibliothèque de `selenium`\n",
    "Importez également `By` depuis `selenium.webdriver.common.by`"
   ]
  },
  {
   "cell_type": "code",
   "execution_count": 103,
   "metadata": {
    "id": "Baohn24aApfp",
    "ExecuteTime": {
     "end_time": "2023-12-12T08:49:04.797506900Z",
     "start_time": "2023-12-12T08:49:04.572535800Z"
    }
   },
   "outputs": [],
   "source": [
    "from selenium.webdriver.common.by import By\n",
    "from selenium import webdriver\n",
    "from selenium.webdriver.chrome.service import Service\n",
    "from time import sleep"
   ]
  },
  {
   "cell_type": "markdown",
   "metadata": {
    "id": "e84Md10rApfp"
   },
   "source": [
    "## 3.4 Deffinissez une variable `driver = webdriver.Chrome(DRIVER_PATH)`.\n",
    "Où `DRIVER_PATH` est le chemin du web driver téléchargé à la question **3.2** ==> `\"./chromedriver\"`."
   ]
  },
  {
   "cell_type": "code",
   "execution_count": 104,
   "metadata": {
    "id": "sxbMR06BApfq",
    "ExecuteTime": {
     "end_time": "2023-12-12T08:49:06.740801900Z",
     "start_time": "2023-12-12T08:49:04.804187300Z"
    }
   },
   "outputs": [],
   "source": [
    "driver_path = \"./chromedriver.exe\"\n",
    "brave_path = \"C:\\\\Program Files\\\\BraveSoftware\\\\Brave-Browser\\\\Application\\\\brave.exe\"\n",
    "\n",
    "option = webdriver.ChromeOptions()\n",
    "option.binary_location = brave_path\n",
    "option.add_argument(\"--incognito\")\n",
    "# option.add_argument(\"--headless\") OPTIONAL\n",
    "\n",
    "# Specify service\n",
    "service = Service(executable_path=driver_path)\n",
    "\n",
    "# Create new Instance of Chrome\n",
    "browser = webdriver.Chrome(service=service, options=option)"
   ]
  },
  {
   "cell_type": "markdown",
   "metadata": {
    "id": "g22ZRCTBApfq"
   },
   "source": [
    "## 3.5 Utilisez la méthode `get(BASE_URL)` de l'objet `driver` puis notez vos observations.\n",
    "`BASE_URL`est le lien pointant vers le site de Doctolib `\"https://www.doctolib.fr/dentiste/paris\"`"
   ]
  },
  {
   "cell_type": "code",
   "execution_count": 105,
   "metadata": {
    "id": "oVKZ5v5CApfr",
    "ExecuteTime": {
     "end_time": "2023-12-12T08:49:07.058804700Z",
     "start_time": "2023-12-12T08:49:06.630813800Z"
    }
   },
   "outputs": [],
   "source": [
    "BASE_URL = \"https://www.doctolib.fr/dentiste/paris\"\n",
    "browser.get(BASE_URL)"
   ]
  },
  {
   "cell_type": "markdown",
   "metadata": {
    "id": "OC6ZKLnNApfs"
   },
   "source": [
    "## 3.6 Affichez l'adresse url courante ainsi que le titre de la page."
   ]
  },
  {
   "cell_type": "code",
   "execution_count": 106,
   "metadata": {
    "id": "vS5Z0QYSApfs",
    "ExecuteTime": {
     "end_time": "2023-12-12T08:49:10.326804600Z",
     "start_time": "2023-12-12T08:49:07.031808900Z"
    }
   },
   "outputs": [
    {
     "name": "stdout",
     "output_type": "stream",
     "text": [
      "https://www.doctolib.fr/dentiste/paris\n",
      "Chirurgien-dentiste Paris 75000 : Prenez rendez-vous en ligne | Doctolib\n"
     ]
    }
   ],
   "source": [
    "print(browser.current_url)\n",
    "print(browser.title)"
   ]
  },
  {
   "cell_type": "code",
   "execution_count": 107,
   "outputs": [],
   "source": [
    "# Agree with cookies\n",
    "browser.find_element(By.ID, \"didomi-notice-agree-button\").click()\n",
    "sleep(2)"
   ],
   "metadata": {
    "collapsed": false,
    "ExecuteTime": {
     "end_time": "2023-12-12T08:49:13.076804300Z",
     "start_time": "2023-12-12T08:49:10.265806100Z"
    }
   }
  },
  {
   "cell_type": "markdown",
   "metadata": {
    "id": "4lRE7ywZApfs"
   },
   "source": [
    "## 3.7 Récupérez dans une variable `selection` la liste des praticients présents sur la page.\n",
    "Utilisez la méthéode `find_elements`, cette méthode prend deux arguments `By.CLASS_NAME` ainsi que le nom de la class recherchée sur la page."
   ]
  },
  {
   "cell_type": "code",
   "execution_count": 108,
   "metadata": {
    "id": "SLgMToEAApft",
    "ExecuteTime": {
     "end_time": "2023-12-12T08:49:13.306831Z",
     "start_time": "2023-12-12T08:49:13.075801900Z"
    }
   },
   "outputs": [],
   "source": [
    "selection = browser.find_elements(By.CLASS_NAME, \"dl-text-primary-110\")"
   ]
  },
  {
   "cell_type": "markdown",
   "metadata": {
    "id": "7t3IZB3YApft"
   },
   "source": [
    "## 3.8 Affichez les information du premier élément de `selection` via son instance `text``."
   ]
  },
  {
   "cell_type": "code",
   "execution_count": 109,
   "metadata": {
    "id": "Dfi7xya_Apft",
    "ExecuteTime": {
     "end_time": "2023-12-12T08:49:13.398804300Z",
     "start_time": "2023-12-12T08:49:13.313805900Z"
    }
   },
   "outputs": [
    {
     "name": "stdout",
     "output_type": "stream",
     "text": [
      "Centre médical et dentaire Opéra\n"
     ]
    }
   ],
   "source": [
    "print(selection[0].text)"
   ]
  },
  {
   "cell_type": "markdown",
   "metadata": {
    "id": "wC0iJ7gEApft"
   },
   "source": [
    "## 3.9 Recherchez à nouveau à l'aide de la méthode `find_element` la photo du premier praticien figurant dans la liste ``selection``."
   ]
  },
  {
   "cell_type": "code",
   "execution_count": 110,
   "metadata": {
    "id": "pNt3sPfgApfu",
    "ExecuteTime": {
     "end_time": "2023-12-12T08:49:13.582805200Z",
     "start_time": "2023-12-12T08:49:13.390804600Z"
    }
   },
   "outputs": [],
   "source": [
    "photo = browser.find_element(By.CLASS_NAME, \"dl-image-rounded\")"
   ]
  },
  {
   "cell_type": "markdown",
   "metadata": {
    "id": "lHfFjEAvApfu"
   },
   "source": [
    "## 3.10 Récupérez à présent le lien de cette image en utilisant la méthode `get_attribute`."
   ]
  },
  {
   "cell_type": "code",
   "execution_count": 111,
   "metadata": {
    "id": "RB8EOce-Apfu",
    "ExecuteTime": {
     "end_time": "2023-12-12T08:49:13.626808600Z",
     "start_time": "2023-12-12T08:49:13.440806300Z"
    }
   },
   "outputs": [
    {
     "data": {
      "text/plain": "'https://media.doctolib.com/image/upload/q_auto:eco,f_auto,dpr_2/w_62,h_62,c_fill,g_face/qiusrypdpuh8rghic7yf'"
     },
     "execution_count": 111,
     "metadata": {},
     "output_type": "execute_result"
    }
   ],
   "source": [
    "photo.get_attribute(\"src\")"
   ]
  },
  {
   "cell_type": "markdown",
   "metadata": {
    "id": "wiqClDEOApfu"
   },
   "source": [
    "## 3.11 Créez une fonction `collect_data` qui renvoie un fichier `json` contenant les informations de tous les praticiens ainsi que leurs photos de profil."
   ]
  },
  {
   "cell_type": "code",
   "execution_count": 112,
   "metadata": {
    "id": "KMN5H_sEApfu",
    "ExecuteTime": {
     "end_time": "2023-12-12T08:49:13.666804Z",
     "start_time": "2023-12-12T08:49:13.534805700Z"
    }
   },
   "outputs": [],
   "source": [
    "def collect_data():\n",
    "  practicien = browser.find_elements(By.CLASS_NAME, \"dl-text-primary-110\")\n",
    "  photo = browser.find_elements(By.CLASS_NAME, \"dl-image-rounded\")\n",
    "  data = []\n",
    "  for i in range(len(practicien)):\n",
    "    try:\n",
    "      data.append({\n",
    "        \"name\": practicien[i].text,\n",
    "        \"photo\": photo[i].get_attribute(\"src\")\n",
    "      })\n",
    "    except:\n",
    "      pass\n",
    "  return data"
   ]
  },
  {
   "cell_type": "code",
   "execution_count": 113,
   "metadata": {
    "id": "lqnG7mF_Apfu",
    "ExecuteTime": {
     "end_time": "2023-12-12T08:49:15.333592300Z",
     "start_time": "2023-12-12T08:49:13.553806500Z"
    }
   },
   "outputs": [],
   "source": [
    "import json\n",
    "\n",
    "json_data = collect_data()\n",
    "with open('output/practiciens.json', 'w') as outfile:\n",
    "  json.dump(json_data, outfile)"
   ]
  },
  {
   "cell_type": "markdown",
   "metadata": {
    "id": "V_l7vHhbApfv"
   },
   "source": [
    "## 3.9 Automatisez la collecte sur les pages 5 premières pages de résultats."
   ]
  },
  {
   "cell_type": "code",
   "execution_count": 114,
   "metadata": {
    "id": "M62YBRmWApfv",
    "ExecuteTime": {
     "end_time": "2023-12-12T08:49:33.347110600Z",
     "start_time": "2023-12-12T08:49:15.331480400Z"
    }
   },
   "outputs": [],
   "source": [
    "from time import sleep\n",
    "\n",
    "for i in range(5):\n",
    "  browser.get(BASE_URL + \"?page=\" + str(i + 1))\n",
    "  \n",
    "  sleep(2)\n",
    "  \n",
    "  json_data = collect_data()\n",
    "  with open(f'practiciens_page{i + 1}.json', 'w') as outfile:\n",
    "    json.dump(json_data, outfile)"
   ]
  },
  {
   "cell_type": "markdown",
   "metadata": {
    "id": "McOBAIXNApfv"
   },
   "source": [
    "# **Partie 2 - Collectes automatisée | [Les Echos](https://www.lesechos.fr/)**\n",
    "\n",
    "\n",
    "\n",
    "<br>\n",
    "\n",
    "<br>\n",
    "\n",
    "\n",
    "<img src = 'https://upload.wikimedia.org/wikipedia/fr/thumb/b/bb/Les_echos_%28logo%29.svg/1200px-Les_echos_%28logo%29.svg.png'>\n",
    "\n",
    "<br><br>\n",
    "\n",
    "Les informations que nous souhaitons collecter sont les suivantes :\n",
    "\n",
    "- l’auteur,\n",
    "- la date de publication,\n",
    "- le titre,\n",
    "- le contenu de la page,\n"
   ]
  },
  {
   "cell_type": "code",
   "execution_count": 114,
   "metadata": {
    "id": "gwUuEg4ZApfv",
    "ExecuteTime": {
     "end_time": "2023-12-12T08:49:33.364143Z",
     "start_time": "2023-12-12T08:49:33.348109200Z"
    }
   },
   "outputs": [],
   "source": []
  },
  {
   "cell_type": "code",
   "execution_count": 114,
   "metadata": {
    "id": "9bXxwmNRApfv",
    "ExecuteTime": {
     "end_time": "2023-12-12T08:49:33.413220300Z",
     "start_time": "2023-12-12T08:49:33.364143Z"
    }
   },
   "outputs": [],
   "source": []
  },
  {
   "cell_type": "code",
   "execution_count": 114,
   "metadata": {
    "id": "MKIQ6-VUApfv",
    "ExecuteTime": {
     "end_time": "2023-12-12T08:49:33.416222Z",
     "start_time": "2023-12-12T08:49:33.380119900Z"
    }
   },
   "outputs": [],
   "source": []
  },
  {
   "cell_type": "code",
   "execution_count": 114,
   "metadata": {
    "scrolled": false,
    "id": "EYJM1_LaApfw",
    "ExecuteTime": {
     "end_time": "2023-12-12T08:49:33.433217700Z",
     "start_time": "2023-12-12T08:49:33.396221100Z"
    }
   },
   "outputs": [],
   "source": []
  },
  {
   "cell_type": "code",
   "source": [],
   "metadata": {
    "id": "I1PxIjjwQ4Ar",
    "ExecuteTime": {
     "end_time": "2023-12-12T08:49:33.468221700Z",
     "start_time": "2023-12-12T08:49:33.412224500Z"
    }
   },
   "execution_count": 114,
   "outputs": []
  },
  {
   "cell_type": "code",
   "source": [],
   "metadata": {
    "id": "5tGrLg62Q39j",
    "ExecuteTime": {
     "end_time": "2023-12-12T08:49:33.472221600Z",
     "start_time": "2023-12-12T08:49:33.428221600Z"
    }
   },
   "execution_count": 114,
   "outputs": []
  },
  {
   "cell_type": "code",
   "source": [],
   "metadata": {
    "id": "Hv0THP-OQ368",
    "ExecuteTime": {
     "end_time": "2023-12-12T08:49:33.490220800Z",
     "start_time": "2023-12-12T08:49:33.442222200Z"
    }
   },
   "execution_count": 114,
   "outputs": []
  },
  {
   "cell_type": "code",
   "source": [],
   "metadata": {
    "id": "y9IZbfnLQ34F",
    "ExecuteTime": {
     "end_time": "2023-12-12T08:49:33.505634400Z",
     "start_time": "2023-12-12T08:49:33.458260Z"
    }
   },
   "execution_count": 114,
   "outputs": []
  },
  {
   "cell_type": "code",
   "source": [],
   "metadata": {
    "id": "xfA8P0_8Q31O",
    "ExecuteTime": {
     "end_time": "2023-12-12T08:49:33.545851900Z",
     "start_time": "2023-12-12T08:49:33.473221600Z"
    }
   },
   "execution_count": 114,
   "outputs": []
  },
  {
   "cell_type": "code",
   "source": [],
   "metadata": {
    "id": "zIJ0VeckQ3yZ",
    "ExecuteTime": {
     "end_time": "2023-12-12T08:49:33.570888800Z",
     "start_time": "2023-12-12T08:49:33.488220100Z"
    }
   },
   "execution_count": 114,
   "outputs": []
  },
  {
   "cell_type": "markdown",
   "source": [
    "---\n",
    "# **Partie 3 : Programation Orientée Objet et Gestion d'une base de données**\n",
    "\n",
    "\n",
    "\n",
    "### **1. Définition d'une Classe**\n",
    "**Definition**\n",
    "\n",
    "La programmation orientée objet (POO) est un paradigme de programmation qui repose sur le concept d'objets. Dans ce paradigme, le code est organisé autour d'entités appelées \"objets\", qui représentent des instances concrètes ou abstraites de concepts du monde réel. Chaque objet peut avoir des propriétés (appelées attributs) et des comportements (appelés méthodes).\n",
    "\n",
    "Voici quelques concepts clés de la programmation orientée objet :\n",
    "\n",
    "- **Objets** : Les objets sont des instances spécifiques d'une classe, qui est un modèle ou un plan pour créer des objets. Par exemple, si une classe est définie pour représenter des voitures, un objet spécifique pourrait être une voiture particulière.\n",
    "\n",
    "- **Classes** : Les classes sont des structures qui définissent la manière dont les objets sont créés. Elles définissent les attributs (caractéristiques) et les méthodes (comportements) que les objets de la classe auront. Une classe est une sorte de modèle à partir duquel des objets peuvent être créés.\n",
    "\n",
    "- **Encapsulation** : L'encapsulation est le principe de regrouper les données (attributs) et les méthodes qui les manipulent au sein d'une même entité, c'est-à-dire une classe. Cela permet de cacher les détails d'implémentation et d'isoler le fonctionnement interne de l'objet.\n",
    "\n",
    "- **Héritage** : L'héritage est un mécanisme qui permet à une classe d'hériter des propriétés et des méthodes d'une autre classe. Cela favorise la réutilisation du code et la création de hiérarchies de classes.\n",
    "\n",
    "- **Polymorphisme** : Le polymorphisme permet à un même nom de méthode d'avoir des comportements différents en fonction du contexte. Il existe deux types de polymorphisme : le polymorphisme statique (surcharge) et le polymorphisme dynamique (redéfinition).\n",
    "\n",
    "- **Abstraction** : L'abstraction consiste à simplifier un concept complexe en modélisant uniquement les aspects pertinents tout en masquant les détails complexes.\n",
    "\n",
    "      # Déclaration d'une classe, paramètre 1 et 2 seront\n",
    "\n",
    "      class NomDeLaClasse:\n",
    "        # Définition des attributs au moment de l'instanciation\n",
    "        def __init__(self, parametre1, parametre2):\n",
    "          self.parametre1 = parametre1\n",
    "          self.parametre2 = parametre2\n",
    "\n",
    "        def __repr__(self):\n",
    "          return \"Exemple de retour\"\n",
    "\n",
    "        # Définition d'une méthode\n",
    "        def nom_de_la_methode(self, p1, p2):\n",
    "          self.value = p1 * p2 # Création d'un nouvel attribut\n",
    "\n",
    "      # Instance de classe\n",
    "      objet = NomDeLaClasse('parametre1', 'parametre2')\n",
    "\n",
    "      # Héritage :\n",
    "      class ClasseFille(NomDeLaClasseMère):\n",
    "        def __init__(self, parametre1, parametre2, parametre3):\n",
    "          NomDeLaClasseMère.__init__(self, parametre1, parametre2)\n",
    "          self.parametre3 = parametre3\n",
    "        \n",
    "        # Méthode utilisable uniquement dans la classe :\n",
    "        def __methode_encapsulee(self):\n",
    "          print(\"Test\")\n",
    "\n",
    "\n",
    "- __init__: permet de définir les attributs nécessaires à l'objet lors de son instanciation.\n",
    "- __repr__: permet de définir le type d'objet retourné par défaut.\n",
    "- __str__ : permet de définir ce qui est affiché par défaut lorsque l'on print un objet.\n",
    "- __add__ : permet de définir ce ci se produit lorsque l'on additionne des objets entre eux.\n",
    "\n",
    "\n",
    "\n"
   ],
   "metadata": {
    "id": "vGqBuLKdNavp"
   }
  },
  {
   "cell_type": "code",
   "source": [
    "# Définir une classe\n"
   ],
   "metadata": {
    "id": "RHmYBqcVOOry",
    "ExecuteTime": {
     "end_time": "2023-12-12T08:49:33.586857900Z",
     "start_time": "2023-12-12T08:49:33.502225Z"
    }
   },
   "execution_count": 115,
   "outputs": []
  },
  {
   "cell_type": "code",
   "source": [
    "# Instancier un objet\n"
   ],
   "metadata": {
    "id": "afd07RmoOOpG",
    "ExecuteTime": {
     "end_time": "2023-12-12T08:49:33.631855400Z",
     "start_time": "2023-12-12T08:49:33.517853700Z"
    }
   },
   "execution_count": 116,
   "outputs": []
  },
  {
   "cell_type": "code",
   "source": [
    "# Héritage"
   ],
   "metadata": {
    "id": "xohoiJvVOOd_",
    "ExecuteTime": {
     "end_time": "2023-12-12T08:49:33.633857200Z",
     "start_time": "2023-12-12T08:49:33.552852700Z"
    }
   },
   "execution_count": 117,
   "outputs": []
  },
  {
   "cell_type": "code",
   "source": [],
   "metadata": {
    "id": "JSKgQKnJOOau",
    "ExecuteTime": {
     "end_time": "2023-12-12T08:49:33.675858600Z",
     "start_time": "2023-12-12T08:49:33.566854100Z"
    }
   },
   "execution_count": 117,
   "outputs": []
  },
  {
   "cell_type": "code",
   "source": [],
   "metadata": {
    "id": "0Bx86xDjOOXx",
    "ExecuteTime": {
     "end_time": "2023-12-12T08:49:33.683851500Z",
     "start_time": "2023-12-12T08:49:33.584854900Z"
    }
   },
   "execution_count": 117,
   "outputs": []
  },
  {
   "cell_type": "markdown",
   "source": [
    "### **2. Gestion d'une base de données avec la bibliothèque [SQLalchemy](https://docs.sqlalchemy.org/en/14/)**\n",
    "\n",
    "<img src='https://miro.medium.com/v2/resize:fit:1400/0*msfsws06ImMSJYop.jpg'>\n",
    "\n",
    "SQLAlchemy est une bibliothèque Python très populaire qui facilite l'interaction avec des bases de données relationnelles en utilisant un langage Python. Elle fournit un ensemble d'outils puissants pour travailler avec des bases de données SQL tout en offrant une abstraction flexible qui permet de travailler avec différents types de bases de données.\n",
    "\n",
    "Voici quelques caractéristiques clés de SQLAlchemy :\n",
    "\n",
    "**ORM (Object-Relational Mapping)** : SQLAlchemy propose un ORM qui permet de représenter des tables de base de données sous forme d'objets Python. Ces objets peuvent être manipulés comme n'importe quel autre objet Python, offrant ainsi une abstraction plus élevée des opérations sur la base de données.\n",
    "\n",
    "**Prise en Charge de Diverses Bases de Données** : SQLAlchemy prend en charge plusieurs types de bases de données, y compris MySQL, PostgreSQL, SQLite, Oracle, et d'autres.\n",
    "\n",
    "**Flexibilité** : Vous pouvez utiliser SQLAlchemy de manière transparente avec un ORM complet, un langage SQL pur, ou une combinaison des deux, en fonction des besoins de votre application.\n",
    "\n",
    "**Communauté Active** : SQLAlchemy est largement utilisé dans la communauté Python et dispose d'une documentation complète et d'une base d'utilisateurs active.\n",
    "\n",
    "---\n",
    "\n",
    "\n",
    "1. Installation de la bibliothèque : `pip install SQLAlchemy`\n",
    "\n",
    "2. Installez [SQLite Viewer](https://marketplace.visualstudio.com/items?itemName=qwtel.sqlite-viewer) pour visualiser votre base données.\n",
    "\n",
    "<img src='https://qwtel.gallerycdn.vsassets.io/extensions/qwtel/sqlite-viewer/0.3.13/1691231169503/Microsoft.VisualStudio.Services.Icons.Default'>"
   ],
   "metadata": {
    "id": "GZHOnUIfQU7R"
   }
  },
  {
   "cell_type": "code",
   "execution_count": 118,
   "metadata": {
    "id": "T2GUzERvApfw",
    "ExecuteTime": {
     "end_time": "2023-12-12T08:49:33.754855300Z",
     "start_time": "2023-12-12T08:49:33.597857100Z"
    }
   },
   "outputs": [
    {
     "ename": "ModuleNotFoundError",
     "evalue": "No module named 'sqlalchemy'",
     "output_type": "error",
     "traceback": [
      "\u001B[1;31m---------------------------------------------------------------------------\u001B[0m",
      "\u001B[1;31mModuleNotFoundError\u001B[0m                       Traceback (most recent call last)",
      "Cell \u001B[1;32mIn[118], line 2\u001B[0m\n\u001B[0;32m      1\u001B[0m \u001B[38;5;66;03m# Gestion d'une base de données\u001B[39;00m\n\u001B[1;32m----> 2\u001B[0m \u001B[38;5;28;01mimport\u001B[39;00m \u001B[38;5;21;01msqlalchemy\u001B[39;00m \u001B[38;5;28;01mas\u001B[39;00m \u001B[38;5;21;01mdb\u001B[39;00m\n\u001B[0;32m      5\u001B[0m \u001B[38;5;28;01mclass\u001B[39;00m \u001B[38;5;21;01mDataBase\u001B[39;00m():\n\u001B[0;32m      6\u001B[0m   \u001B[38;5;28;01mdef\u001B[39;00m \u001B[38;5;21m__init__\u001B[39m(\u001B[38;5;28mself\u001B[39m, name_database\u001B[38;5;241m=\u001B[39m\u001B[38;5;124m'\u001B[39m\u001B[38;5;124mdatabase\u001B[39m\u001B[38;5;124m'\u001B[39m):\n",
      "\u001B[1;31mModuleNotFoundError\u001B[0m: No module named 'sqlalchemy'"
     ]
    }
   ],
   "source": [
    "# Gestion d'une base de données\n",
    "import sqlalchemy as db\n",
    "\n",
    "\n",
    "class DataBase():\n",
    "  def __init__(self, name_database='database'):\n",
    "    self.name = name_database\n",
    "    self.url = f\"sqlite:///{name_database}.db\"\n",
    "    self.engine = db.create_engine(self.url)\n",
    "    self.connection = self.engine.connect()\n",
    "    self.metadata = db.MetaData()\n",
    "    self.table = self.engine.table_names()\n",
    "\n",
    "  def create_table(self, name_table, **kwargs):\n",
    "    colums = [db.Column(k, v, primary_key=True) if 'id_' in k else db.Column(k, v) for k, v in kwargs.items()]\n",
    "    db.Table(name_table, self.metadata, *colums)\n",
    "    self.metadata.create_all(self.engine)\n",
    "    print(f\"Table : '{name_table}' are created succesfully\")\n",
    "\n",
    "  def read_table(self, name_table, return_keys=False):\n",
    "    table = db.Table(name_table, self.metadata, autoload=True, autoload_with=self.engine)\n",
    "    if return_keys:\n",
    "      table.columns.keys()\n",
    "    else:\n",
    "      return table\n",
    "\n",
    "  def add_row(self, name_table, **kwarrgs):\n",
    "    name_table = self.read_table(name_table)\n",
    "\n",
    "    stmt = (\n",
    "      db.insert(name_table).\n",
    "      values(kwarrgs)\n",
    "    )\n",
    "    self.connection.execute(stmt)\n",
    "    print(f'Row id added')\n",
    "\n",
    "  def delete_row_by_id(self, table, id_):\n",
    "    name_table = self.read_table(name_table)\n",
    "\n",
    "    stmt = (\n",
    "      db.delete(name_table).\n",
    "      where(students.c.id_ == id_)\n",
    "    )\n",
    "    self.connection.execute(stmt)\n",
    "    print(f'Row id {id_} deleted')\n",
    "\n",
    "  def select_table(self, name_table):\n",
    "    name_table = self.read_table(name_table)\n",
    "    stm = db.select([name_table])\n",
    "    return self.connection.execute(stm).fetchall()"
   ]
  },
  {
   "cell_type": "code",
   "source": [
    "# Création d'une base de données\n",
    "database = DataBase('data')"
   ],
   "metadata": {
    "id": "73kTBR6oPP6P",
    "ExecuteTime": {
     "start_time": "2023-12-12T08:49:33.650858700Z"
    }
   },
   "execution_count": null,
   "outputs": []
  },
  {
   "cell_type": "code",
   "source": [
    "# Création d'un Tableau1\n",
    "database.create_table('Tableau1', id_user=db.Integer, colonne1=db.String, colonne2=db.Integer)"
   ],
   "metadata": {
    "id": "f_qnFl5XPP3e",
    "ExecuteTime": {
     "start_time": "2023-12-12T08:49:33.654852600Z"
    }
   },
   "execution_count": null,
   "outputs": []
  },
  {
   "cell_type": "code",
   "source": [
    "# Création d'un Tableau2\n",
    "database.create_table('Tableau2', id_shop=db.Integer, id_colonne1=db.String, colonne2=db.Integer)"
   ],
   "metadata": {
    "id": "oTIjweflPP0g",
    "ExecuteTime": {
     "start_time": "2023-12-12T08:49:33.660857700Z"
    }
   },
   "execution_count": null,
   "outputs": []
  },
  {
   "cell_type": "code",
   "source": [
    "# Ajouter une ligne à la base de données\n",
    "database.add_row('Tableau2', id_shop=3086, id_colonne1='Iphone')"
   ],
   "metadata": {
    "id": "dEz5c2CVPPxo",
    "ExecuteTime": {
     "start_time": "2023-12-12T08:49:33.665854100Z"
    }
   },
   "execution_count": null,
   "outputs": []
  },
  {
   "cell_type": "code",
   "source": [
    "# Ajouter plusieurs lignes à la base de données\n",
    "for i in range(10):\n",
    "  database.add_row('Tableau2', id_shop=i, id_colonne1='Iphone' * (i + 1), colonne2=99 * i)\n",
    "\n",
    "database.select_table('Tableau2')"
   ],
   "metadata": {
    "id": "A4q8doDRPPux",
    "ExecuteTime": {
     "start_time": "2023-12-12T08:49:33.669854Z"
    }
   },
   "execution_count": null,
   "outputs": []
  },
  {
   "cell_type": "code",
   "source": [
    "# Afficher le Tableau1\n",
    "database.select_table('Tableau2')"
   ],
   "metadata": {
    "id": "mi4X_hcHPPrq",
    "ExecuteTime": {
     "start_time": "2023-12-12T08:49:33.675858600Z"
    }
   },
   "execution_count": null,
   "outputs": []
  },
  {
   "cell_type": "code",
   "source": [],
   "metadata": {
    "id": "_3vesr7qPPoo",
    "ExecuteTime": {
     "start_time": "2023-12-12T08:49:33.680855100Z"
    }
   },
   "execution_count": null,
   "outputs": []
  },
  {
   "cell_type": "code",
   "source": [],
   "metadata": {
    "id": "YGKXMNxDPPl0",
    "ExecuteTime": {
     "start_time": "2023-12-12T08:49:33.683851500Z"
    }
   },
   "execution_count": null,
   "outputs": []
  },
  {
   "cell_type": "code",
   "source": [],
   "metadata": {
    "id": "wRccw0TjQ1KP",
    "ExecuteTime": {
     "start_time": "2023-12-12T08:49:33.686852900Z"
    }
   },
   "execution_count": null,
   "outputs": []
  },
  {
   "cell_type": "code",
   "source": [],
   "metadata": {
    "id": "qf0rsMtoQ1Hh",
    "ExecuteTime": {
     "start_time": "2023-12-12T08:49:33.689856400Z"
    }
   },
   "execution_count": null,
   "outputs": []
  },
  {
   "cell_type": "code",
   "source": [],
   "metadata": {
    "id": "E-RA3jsXQ1Es",
    "ExecuteTime": {
     "start_time": "2023-12-12T08:49:33.693856Z"
    }
   },
   "execution_count": null,
   "outputs": []
  },
  {
   "cell_type": "markdown",
   "source": [
    "# Exercice Collecte d’articles sur le site [Cdiscount](https://www.cdiscount.com/)\n",
    "\n",
    "<img src='https://marketplace.cdiscount.com/wp-content/uploads/2020/06/french-days-cdiscount.jpg'>\n",
    "\n",
    "Dans cet exercice nous allons collecter les informations des articles présents sur le site Cdiscount.\n",
    "Parmis une liste de produit, collectez dans une base de données les informations suivantes :\n",
    "- le nom de l’article,\n",
    "- le lien de l’image,\n",
    "- le lien de l’article\n",
    "- le prix de l’article\n",
    "- la note de l’article\n",
    "\n",
    "Nous créerons un script qui automatisera la collecte des données en prenant en compte les exceptions et qui retournera un fichier csv contenant l'ensemble de nos données. Voici la liste des produits à collecter (choisir un article) :\n",
    "- Iphone 13\n",
    "- Samsung Galaxy S21\n",
    "- Xiaomi Redmi Note 10\n",
    "\n",
    "1. Créez une fonction `collecte_Cdiscount` qui prends en entrée une chaine de caractère (produit à collecter) et qui retourne un fichier csv contenant les produits scrappé avec la bibliothèque Selenium.\n",
    "2. Placez vcette fonction dans un fichier `functions.py`.\n",
    "3. Créez une page dans votre application streamlit qui demande à l'utilisateur de saisir le nom d'un produit à collecter puis fait appel à la fonction `collecte_Cdiscount` pour collecter ces produits. La collecte ne doit pas ouvrir de navigateur.\n",
    "4. Ajoutez les données dans une base de données MySQL ou SQL Lite."
   ],
   "metadata": {
    "id": "HdHI6vMlN4_2"
   }
  },
  {
   "cell_type": "code",
   "source": [],
   "metadata": {
    "id": "Mk5cxiggN5jg",
    "ExecuteTime": {
     "start_time": "2023-12-12T08:49:33.696855Z"
    }
   },
   "execution_count": null,
   "outputs": []
  },
  {
   "cell_type": "code",
   "source": [],
   "metadata": {
    "id": "H2KOcWNNPNq2",
    "ExecuteTime": {
     "start_time": "2023-12-12T08:49:33.698853800Z"
    }
   },
   "execution_count": null,
   "outputs": []
  },
  {
   "cell_type": "code",
   "source": [],
   "metadata": {
    "id": "Yyrs4S1HPNoZ",
    "ExecuteTime": {
     "start_time": "2023-12-12T08:49:33.700852200Z"
    }
   },
   "execution_count": null,
   "outputs": []
  },
  {
   "cell_type": "code",
   "source": [],
   "metadata": {
    "id": "wUzwc1TgPNl1",
    "ExecuteTime": {
     "start_time": "2023-12-12T08:49:33.703854100Z"
    }
   },
   "execution_count": null,
   "outputs": []
  }
 ],
 "metadata": {
  "colab": {
   "provenance": []
  },
  "kernelspec": {
   "display_name": "Python 3 (ipykernel)",
   "language": "python",
   "name": "python3"
  },
  "language_info": {
   "codemirror_mode": {
    "name": "ipython",
    "version": 3
   },
   "file_extension": ".py",
   "mimetype": "text/x-python",
   "name": "python",
   "nbconvert_exporter": "python",
   "pygments_lexer": "ipython3",
   "version": "3.10.6"
  }
 },
 "nbformat": 4,
 "nbformat_minor": 0
}
