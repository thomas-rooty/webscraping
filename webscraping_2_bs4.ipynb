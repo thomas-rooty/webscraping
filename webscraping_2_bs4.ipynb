{
 "cells": [
  {
   "cell_type": "markdown",
   "metadata": {
    "id": "qWUK25s9YosK"
   },
   "source": [
    "# 2. Web Scraping - BeautifulSoup\n",
    "\n",
    "<img src='https://xn--kvin-duranty-beb.fr/wp-content/uploads/2022/10/Web-Scraping-_-IPSSI-PRS-1.png'>\n",
    "\n",
    "Dans cet exercice, nous utiliserons la bibliothèque BeautifulSoup afin de collecter les données des sites internet suivants :\n",
    "\n",
    "- Partie 1 : [TheProject.html](http://info.cern.ch/hypertext/WWW/TheProject.html)\n",
    "Nous reprenons le site scrapé  précédement via la bibliothèque `requests`, l'objectif est de comprendre le fonctionnement de la bibliothèque `BeautifulSoup`.\n",
    "\n",
    "\n",
    "- Partie 2 : [Blog Du Modérateur](https://www.blogdumoderateur.com/)\n",
    "L'objectif sera de collecter la liste des articles présents sur la page d'accueil du site.\n",
    "\n",
    "- Partie 3 : [Doctolib](https://www.doctolib.fr/dentiste/paris)\n",
    "Nous verrons que certains sites ont une structure html/css qui entrave la collecte de données, heureusement d'autres bibliothèques existent et permettent de contourner ces restrictions (Selenium).\n",
    "\n",
    "\n",
    "\n",
    "# Partie 1 - [TheProject.html](http://info.cern.ch/hypertext/WWW/TheProject.html)\n",
    "\n",
    "## 2.1 Installez la bibliothèque BeautifulSoup.\n",
    "Utilitisez la commande suivante dans votre terminal :  `pip install beautifulsoup4`"
   ]
  },
  {
   "cell_type": "markdown",
   "metadata": {
    "id": "4Cc8XRxOVooj"
   },
   "source": [
    "## 2.2 Importez le package `BeautifulSoup` à partir de la bibliothèque `bs4`.\n",
    "Importez également la bibliothèque `request`"
   ]
  },
  {
   "cell_type": "code",
   "execution_count": 127,
   "metadata": {
    "id": "13pqysyRVooj",
    "ExecuteTime": {
     "end_time": "2023-12-11T10:46:14.316783800Z",
     "start_time": "2023-12-11T10:46:14.143424700Z"
    }
   },
   "outputs": [],
   "source": [
    "import requests\n",
    "from bs4 import BeautifulSoup"
   ]
  },
  {
   "cell_type": "markdown",
   "metadata": {
    "id": "eto09NekVook"
   },
   "source": [
    "## 2.3 Faites une requête à l'adresse [TheProject.html](http://info.cern.ch/hypertext/WWW/TheProject.html) via la bibliothèque `requests`.\n",
    "Stockez la réponse dans une variable `response` et affichez le type de cette variable."
   ]
  },
  {
   "cell_type": "code",
   "execution_count": 128,
   "metadata": {
    "id": "ECJFWnZNVook",
    "ExecuteTime": {
     "end_time": "2023-12-11T10:46:14.481787800Z",
     "start_time": "2023-12-11T10:46:14.313794500Z"
    }
   },
   "outputs": [],
   "source": [
    "response = requests.get('http://info.cern.ch/hypertext/WWW/TheProject.html')"
   ]
  },
  {
   "cell_type": "markdown",
   "metadata": {
    "id": "P-g-pE7qVool"
   },
   "source": [
    "## 2.4 Instanciez une variable soup à partir du module `BeautifulSoup` et de la variable `response.text`.\n",
    "\n",
    "Affichez le type de cette variable `soup` ainsi que son instance `text`"
   ]
  },
  {
   "cell_type": "code",
   "execution_count": 129,
   "metadata": {
    "id": "1jxBEYBcVool",
    "ExecuteTime": {
     "end_time": "2023-12-11T10:46:14.497788800Z",
     "start_time": "2023-12-11T10:46:14.446790300Z"
    }
   },
   "outputs": [],
   "source": [
    "soup = BeautifulSoup(response.text)"
   ]
  },
  {
   "cell_type": "code",
   "execution_count": 130,
   "outputs": [
    {
     "name": "stdout",
     "output_type": "stream",
     "text": [
      "<class 'bs4.BeautifulSoup'>\n"
     ]
    },
    {
     "data": {
      "text/plain": "\"\\nThe World Wide Web project\\n\\n\\n\\nWorld Wide WebThe WorldWideWeb (W3) is a wide-area\\nhypermedia information retrieval\\ninitiative aiming to give universal\\naccess to a large universe of documents.\\nEverything there is online about\\nW3 is linked directly or indirectly\\nto this document, including an executive\\nsummary of the project, Mailing lists\\n, Policy , November's  W3  news ,\\nFrequently Asked Questions .\\n\\nWhat's out there?\\n Pointers to the\\nworld's online information, subjects\\n, W3 servers, etc.\\nHelp\\n on the browser you are using\\nSoftware Products\\n A list of W3 project\\ncomponents and their current state.\\n(e.g. Line Mode ,X11 Viola ,  NeXTStep\\n, Servers , Tools , Mail robot ,\\nLibrary )\\nTechnical\\n Details of protocols, formats,\\nprogram internals etc\\nBibliography\\n Paper documentation\\non  W3 and references.\\nPeople\\n A list of some people involved\\nin the project.\\nHistory\\n A summary of the history\\nof the project.\\nHow can I help ?\\n If you would like\\nto support the web..\\nGetting code\\n Getting the code by\\nanonymous FTP , etc.\\n\\n\\n\""
     },
     "execution_count": 130,
     "metadata": {},
     "output_type": "execute_result"
    }
   ],
   "source": [
    "print(type(soup))\n",
    "\n",
    "soup.text"
   ],
   "metadata": {
    "collapsed": false,
    "ExecuteTime": {
     "end_time": "2023-12-11T10:46:14.571785800Z",
     "start_time": "2023-12-11T10:46:14.460787900Z"
    }
   }
  },
  {
   "cell_type": "markdown",
   "metadata": {
    "id": "w_YFJERqVoom"
   },
   "source": [
    "## 2.5 Utilisez la méthode `find_all` afin de trouver les balises `header`,`body`, `title`, `h1`, `p` et `a`."
   ]
  },
  {
   "cell_type": "code",
   "execution_count": 131,
   "metadata": {
    "id": "zlfUFsBqVoon",
    "ExecuteTime": {
     "end_time": "2023-12-11T10:46:14.593789600Z",
     "start_time": "2023-12-11T10:46:14.476792100Z"
    }
   },
   "outputs": [
    {
     "data": {
      "text/plain": "[<header>\n <title>The World Wide Web project</title>\n <nextid n=\"55\"/>\n </header>]"
     },
     "execution_count": 131,
     "metadata": {},
     "output_type": "execute_result"
    }
   ],
   "source": [
    "# header\n",
    "soup.find_all('header')"
   ]
  },
  {
   "cell_type": "code",
   "execution_count": 132,
   "metadata": {
    "id": "1hSe7AqSVoon",
    "ExecuteTime": {
     "end_time": "2023-12-11T10:46:14.596787700Z",
     "start_time": "2023-12-11T10:46:14.489825Z"
    }
   },
   "outputs": [
    {
     "data": {
      "text/plain": "[<body>\n <h1>World Wide Web</h1>The WorldWideWeb (W3) is a wide-area<a href=\"WhatIs.html\" name=\"0\">\n hypermedia</a> information retrieval\n initiative aiming to give universal\n access to a large universe of documents.<p>\n Everything there is online about\n W3 is linked directly or indirectly\n to this document, including an <a href=\"Summary.html\" name=\"24\">executive\n summary</a> of the project, <a href=\"Administration/Mailing/Overview.html\" name=\"29\">Mailing lists</a>\n , <a href=\"Policy.html\" name=\"30\">Policy</a> , November's  <a href=\"News/9211.html\" name=\"34\">W3  news</a> ,\n <a href=\"FAQ/List.html\" name=\"41\">Frequently Asked Questions</a> .\n <dl>\n <dt><a href=\"../DataSources/Top.html\" name=\"44\">What's out there?</a>\n <dd> Pointers to the\n world's online information,<a href=\"../DataSources/bySubject/Overview.html\" name=\"45\"> subjects</a>\n , <a href=\"../DataSources/WWW/Servers.html\" name=\"z54\">W3 servers</a>, etc.\n <dt><a href=\"Help.html\" name=\"46\">Help</a>\n <dd> on the browser you are using\n <dt><a href=\"Status.html\" name=\"13\">Software Products</a>\n <dd> A list of W3 project\n components and their current state.\n (e.g. <a href=\"LineMode/Browser.html\" name=\"27\">Line Mode</a> ,X11 <a href=\"Status.html#35\" name=\"35\">Viola</a> ,  <a href=\"NeXT/WorldWideWeb.html\" name=\"26\">NeXTStep</a>\n , <a href=\"Daemon/Overview.html\" name=\"25\">Servers</a> , <a href=\"Tools/Overview.html\" name=\"51\">Tools</a> ,<a href=\"MailRobot/Overview.html\" name=\"53\"> Mail robot</a> ,<a href=\"Status.html#57\" name=\"52\">\n Library</a> )\n <dt><a href=\"Technical.html\" name=\"47\">Technical</a>\n <dd> Details of protocols, formats,\n program internals etc\n <dt><a href=\"Bibliography.html\" name=\"40\">Bibliography</a>\n <dd> Paper documentation\n on  W3 and references.\n <dt><a href=\"People.html\" name=\"14\">People</a>\n <dd> A list of some people involved\n in the project.\n <dt><a href=\"History.html\" name=\"15\">History</a>\n <dd> A summary of the history\n of the project.\n <dt><a href=\"Helping.html\" name=\"37\">How can I help</a> ?\n <dd> If you would like\n to support the web..\n <dt><a href=\"../README.html\" name=\"48\">Getting code</a>\n <dd> Getting the code by<a href=\"LineMode/Defaults/Distribution.html\" name=\"49\">\n anonymous FTP</a> , etc.\n </dd></dt></dd></dt></dd></dt></dd></dt></dd></dt></dd></dt></dd></dt></dd></dt></dd></dt></dl>\n </p></body>]"
     },
     "execution_count": 132,
     "metadata": {},
     "output_type": "execute_result"
    }
   ],
   "source": [
    "# body\n",
    "soup.find_all('body')"
   ]
  },
  {
   "cell_type": "code",
   "execution_count": 133,
   "metadata": {
    "id": "CVBpuSvlVoon",
    "ExecuteTime": {
     "end_time": "2023-12-11T10:46:14.597785Z",
     "start_time": "2023-12-11T10:46:14.504794800Z"
    }
   },
   "outputs": [
    {
     "data": {
      "text/plain": "[<title>The World Wide Web project</title>]"
     },
     "execution_count": 133,
     "metadata": {},
     "output_type": "execute_result"
    }
   ],
   "source": [
    "# title\n",
    "soup.find_all('title')"
   ]
  },
  {
   "cell_type": "code",
   "execution_count": 134,
   "metadata": {
    "id": "MYn2wWvzVooo",
    "ExecuteTime": {
     "end_time": "2023-12-11T10:46:14.681784400Z",
     "start_time": "2023-12-11T10:46:14.518791100Z"
    }
   },
   "outputs": [
    {
     "data": {
      "text/plain": "[<h1>World Wide Web</h1>]"
     },
     "execution_count": 134,
     "metadata": {},
     "output_type": "execute_result"
    }
   ],
   "source": [
    "# h1\n",
    "soup.find_all('h1')"
   ]
  },
  {
   "cell_type": "code",
   "execution_count": 135,
   "metadata": {
    "id": "_rhtQCxJVooo",
    "ExecuteTime": {
     "end_time": "2023-12-11T10:46:14.683785300Z",
     "start_time": "2023-12-11T10:46:14.534787500Z"
    }
   },
   "outputs": [
    {
     "data": {
      "text/plain": "[<p>\n Everything there is online about\n W3 is linked directly or indirectly\n to this document, including an <a href=\"Summary.html\" name=\"24\">executive\n summary</a> of the project, <a href=\"Administration/Mailing/Overview.html\" name=\"29\">Mailing lists</a>\n , <a href=\"Policy.html\" name=\"30\">Policy</a> , November's  <a href=\"News/9211.html\" name=\"34\">W3  news</a> ,\n <a href=\"FAQ/List.html\" name=\"41\">Frequently Asked Questions</a> .\n <dl>\n <dt><a href=\"../DataSources/Top.html\" name=\"44\">What's out there?</a>\n <dd> Pointers to the\n world's online information,<a href=\"../DataSources/bySubject/Overview.html\" name=\"45\"> subjects</a>\n , <a href=\"../DataSources/WWW/Servers.html\" name=\"z54\">W3 servers</a>, etc.\n <dt><a href=\"Help.html\" name=\"46\">Help</a>\n <dd> on the browser you are using\n <dt><a href=\"Status.html\" name=\"13\">Software Products</a>\n <dd> A list of W3 project\n components and their current state.\n (e.g. <a href=\"LineMode/Browser.html\" name=\"27\">Line Mode</a> ,X11 <a href=\"Status.html#35\" name=\"35\">Viola</a> ,  <a href=\"NeXT/WorldWideWeb.html\" name=\"26\">NeXTStep</a>\n , <a href=\"Daemon/Overview.html\" name=\"25\">Servers</a> , <a href=\"Tools/Overview.html\" name=\"51\">Tools</a> ,<a href=\"MailRobot/Overview.html\" name=\"53\"> Mail robot</a> ,<a href=\"Status.html#57\" name=\"52\">\n Library</a> )\n <dt><a href=\"Technical.html\" name=\"47\">Technical</a>\n <dd> Details of protocols, formats,\n program internals etc\n <dt><a href=\"Bibliography.html\" name=\"40\">Bibliography</a>\n <dd> Paper documentation\n on  W3 and references.\n <dt><a href=\"People.html\" name=\"14\">People</a>\n <dd> A list of some people involved\n in the project.\n <dt><a href=\"History.html\" name=\"15\">History</a>\n <dd> A summary of the history\n of the project.\n <dt><a href=\"Helping.html\" name=\"37\">How can I help</a> ?\n <dd> If you would like\n to support the web..\n <dt><a href=\"../README.html\" name=\"48\">Getting code</a>\n <dd> Getting the code by<a href=\"LineMode/Defaults/Distribution.html\" name=\"49\">\n anonymous FTP</a> , etc.\n </dd></dt></dd></dt></dd></dt></dd></dt></dd></dt></dd></dt></dd></dt></dd></dt></dd></dt></dl>\n </p>]"
     },
     "execution_count": 135,
     "metadata": {},
     "output_type": "execute_result"
    }
   ],
   "source": [
    "#p\n",
    "soup.find_all('p')"
   ]
  },
  {
   "cell_type": "code",
   "execution_count": 136,
   "metadata": {
    "id": "Nuy7DxBmVooo",
    "ExecuteTime": {
     "end_time": "2023-12-11T10:46:14.683785300Z",
     "start_time": "2023-12-11T10:46:14.547791100Z"
    }
   },
   "outputs": [
    {
     "data": {
      "text/plain": "[<a href=\"WhatIs.html\" name=\"0\">\n hypermedia</a>,\n <a href=\"Summary.html\" name=\"24\">executive\n summary</a>,\n <a href=\"Administration/Mailing/Overview.html\" name=\"29\">Mailing lists</a>,\n <a href=\"Policy.html\" name=\"30\">Policy</a>,\n <a href=\"News/9211.html\" name=\"34\">W3  news</a>,\n <a href=\"FAQ/List.html\" name=\"41\">Frequently Asked Questions</a>,\n <a href=\"../DataSources/Top.html\" name=\"44\">What's out there?</a>,\n <a href=\"../DataSources/bySubject/Overview.html\" name=\"45\"> subjects</a>,\n <a href=\"../DataSources/WWW/Servers.html\" name=\"z54\">W3 servers</a>,\n <a href=\"Help.html\" name=\"46\">Help</a>,\n <a href=\"Status.html\" name=\"13\">Software Products</a>,\n <a href=\"LineMode/Browser.html\" name=\"27\">Line Mode</a>,\n <a href=\"Status.html#35\" name=\"35\">Viola</a>,\n <a href=\"NeXT/WorldWideWeb.html\" name=\"26\">NeXTStep</a>,\n <a href=\"Daemon/Overview.html\" name=\"25\">Servers</a>,\n <a href=\"Tools/Overview.html\" name=\"51\">Tools</a>,\n <a href=\"MailRobot/Overview.html\" name=\"53\"> Mail robot</a>,\n <a href=\"Status.html#57\" name=\"52\">\n Library</a>,\n <a href=\"Technical.html\" name=\"47\">Technical</a>,\n <a href=\"Bibliography.html\" name=\"40\">Bibliography</a>,\n <a href=\"People.html\" name=\"14\">People</a>,\n <a href=\"History.html\" name=\"15\">History</a>,\n <a href=\"Helping.html\" name=\"37\">How can I help</a>,\n <a href=\"../README.html\" name=\"48\">Getting code</a>,\n <a href=\"LineMode/Defaults/Distribution.html\" name=\"49\">\n anonymous FTP</a>]"
     },
     "execution_count": 136,
     "metadata": {},
     "output_type": "execute_result"
    }
   ],
   "source": [
    "# a\n",
    "soup.find_all('a')"
   ]
  },
  {
   "cell_type": "markdown",
   "metadata": {
    "id": "riP1tCc0Vooo"
   },
   "source": [
    "## 2.6 Affichez les attributs du premier lien.\n",
    "Récupérer dans une liste l'ensemble des attributs `href`."
   ]
  },
  {
   "cell_type": "code",
   "execution_count": 137,
   "metadata": {
    "id": "RS4j_95WVoop",
    "ExecuteTime": {
     "end_time": "2023-12-11T10:46:14.700785100Z",
     "start_time": "2023-12-11T10:46:14.567791300Z"
    }
   },
   "outputs": [
    {
     "data": {
      "text/plain": "'WhatIs.html'"
     },
     "execution_count": 137,
     "metadata": {},
     "output_type": "execute_result"
    }
   ],
   "source": [
    "soup.find_all('a')[0].get('href')"
   ]
  },
  {
   "cell_type": "code",
   "execution_count": 138,
   "metadata": {
    "id": "Z1-zKS67Voop",
    "ExecuteTime": {
     "end_time": "2023-12-11T10:46:14.705790800Z",
     "start_time": "2023-12-11T10:46:14.580786200Z"
    }
   },
   "outputs": [
    {
     "data": {
      "text/plain": "<a href=\"WhatIs.html\" name=\"0\">\nhypermedia</a>"
     },
     "execution_count": 138,
     "metadata": {},
     "output_type": "execute_result"
    }
   ],
   "source": [
    "soup.find_all('a')[0]"
   ]
  },
  {
   "cell_type": "code",
   "execution_count": 139,
   "outputs": [
    {
     "data": {
      "text/plain": "['WhatIs.html',\n 'Summary.html',\n 'Administration/Mailing/Overview.html',\n 'Policy.html',\n 'News/9211.html',\n 'FAQ/List.html',\n '../DataSources/Top.html',\n '../DataSources/bySubject/Overview.html',\n '../DataSources/WWW/Servers.html',\n 'Help.html',\n 'Status.html',\n 'LineMode/Browser.html',\n 'Status.html#35',\n 'NeXT/WorldWideWeb.html',\n 'Daemon/Overview.html',\n 'Tools/Overview.html',\n 'MailRobot/Overview.html',\n 'Status.html#57',\n 'Technical.html',\n 'Bibliography.html',\n 'People.html',\n 'History.html',\n 'Helping.html',\n '../README.html',\n 'LineMode/Defaults/Distribution.html']"
     },
     "execution_count": 139,
     "metadata": {},
     "output_type": "execute_result"
    }
   ],
   "source": [
    "[link['href'] for link in soup.find_all('a')]"
   ],
   "metadata": {
    "collapsed": false,
    "ExecuteTime": {
     "end_time": "2023-12-11T10:46:14.721793600Z",
     "start_time": "2023-12-11T10:46:14.599788Z"
    }
   }
  },
  {
   "cell_type": "markdown",
   "metadata": {
    "id": "LefyMKXbVoop"
   },
   "source": [
    "# Partie 2 - Collecte de données du [Blog du Modérateur](https://www.blogdumoderateur.com/)\n",
    "\n",
    "<img src='https://f.hellowork.com/blogdumoderateur/2017/05/blogdumoderateur-og.png'>\n",
    "\n",
    "Ce deuxième exercice a pour but de collecter les articles du site le Blog Du Modérateur. Pour cela nous utiliserons la bibliothèque BeautifulSoup afin de scraper les éléments suivants présents sur la page d'accueil :\n",
    "\n",
    "- le nom de l’article,\n",
    "- le lien de l’image,\n",
    "- le lien de l’article\n",
    "- la catégorie de l’article\n",
    "- la date de publication de l’article\n",
    "\n",
    "Nous créerons un script qui automatisera la collecte des données en prenant en compte les exceptions et qui retournera un fichier json contenant l'ensemble de nos données."
   ]
  },
  {
   "cell_type": "markdown",
   "metadata": {
    "id": "xHSiVIRRVoop"
   },
   "source": [
    "## 2.7 Faites une requête au site du Blog du Modérateur puis instanciez une variable `soup`.\n",
    "\n",
    "Utilisez l'adresse url suivante : `https://www.blogdumoderateur.com/`"
   ]
  },
  {
   "cell_type": "code",
   "execution_count": 140,
   "metadata": {
    "id": "nrHP0MX9Voop",
    "ExecuteTime": {
     "end_time": "2023-12-11T10:46:14.968956900Z",
     "start_time": "2023-12-11T10:46:14.710786100Z"
    }
   },
   "outputs": [],
   "source": [
    "response = requests.get('https://www.blogdumoderateur.com/')\n",
    "soup = BeautifulSoup(response.text)"
   ]
  },
  {
   "cell_type": "markdown",
   "metadata": {
    "id": "smnCvJ2MVooq"
   },
   "source": [
    "## 2.8 Collectez dans une variable `article` les articles présents sur la page d'acceuil."
   ]
  },
  {
   "cell_type": "code",
   "execution_count": 141,
   "metadata": {
    "id": "2YFH2_VXVooq",
    "ExecuteTime": {
     "end_time": "2023-12-11T10:46:15.004697800Z",
     "start_time": "2023-12-11T10:46:14.965933600Z"
    }
   },
   "outputs": [
    {
     "data": {
      "text/plain": "[<article class=\"d-flex py-4_2 post-149273 post type-post status-publish format-standard has-post-thumbnail category-web tag-adobe tag-design\" id=\"post-149273\">\n <div class=\"post-thumbnail picture rounded-img\">\n <img alt=\"Design : Adobe dévoile ses prédictions créatives pour 2024\" class=\"attachment-thumbnail size-thumbnail wp-post-image\" data-lazy-sizes=\"(min-width: 768px) 276px, (min-width: 400px) 510px, (max-width: 400px) 276px, 276px\" data-lazy-src=\"https://f.hellowork.com/blogdumoderateur/2023/12/Trends-Adobe-2023-276x144.jpg\" data-lazy-srcset=\"https://f.hellowork.com/blogdumoderateur/2023/12/Trends-Adobe-2023-276x144.jpg 276w, https://f.hellowork.com/blogdumoderateur/2023/12/Trends-Adobe-2023-510x267.jpg 510w, https://f.hellowork.com/blogdumoderateur/2023/12/Trends-Adobe-2023-370x194.jpg 370w\" decoding=\"async\" height=\"144\" src=\"data:image/svg+xml,%3Csvg%20xmlns='http://www.w3.org/2000/svg'%20viewBox='0%200%20276%20144'%3E%3C/svg%3E\" width=\"276\"><noscript><img alt=\"Design : Adobe dévoile ses prédictions créatives pour 2024\" class=\"attachment-thumbnail size-thumbnail wp-post-image\" decoding=\"async\" height=\"144\" sizes=\"(min-width: 768px) 276px, (min-width: 400px) 510px, (max-width: 400px) 276px, 276px\" src=\"https://f.hellowork.com/blogdumoderateur/2023/12/Trends-Adobe-2023-276x144.jpg\" srcset=\"https://f.hellowork.com/blogdumoderateur/2023/12/Trends-Adobe-2023-276x144.jpg 276w, https://f.hellowork.com/blogdumoderateur/2023/12/Trends-Adobe-2023-510x267.jpg 510w, https://f.hellowork.com/blogdumoderateur/2023/12/Trends-Adobe-2023-370x194.jpg 370w\" width=\"276\"/></noscript>\n </img></div><!-- .post-thumbnail -->\n <div class=\"entry-meta\">\n <span class=\"favtag color-b\">Adobe</span>\n <span class=\"posted-on t-def px-3\"><time class=\"entry-date published updated\" datetime=\"2023-12-11T11:28:54+01:00\">11 décembre</time></span>\n <header class=\"entry-header pt-2\">\n <a href=\"https://www.blogdumoderateur.com/design-adobe-predictions-creatives-2024/\">\n <h3 class=\"entry-title\">Design : Adobe dévoile ses prédictions créatives pour 2024</h3>\n </a>\n </header><!-- .entry-header -->\n </div>\n </article>,\n <article class=\"d-flex py-4_2 post-149297 post type-post status-publish format-standard has-post-thumbnail category-web tag-developpement\" id=\"post-149297\">\n <div class=\"post-thumbnail picture rounded-img\">\n <img alt=\"Les 20 langages informatiques les plus populaires en décembre 2023\" class=\"attachment-thumbnail size-thumbnail wp-post-image\" data-lazy-sizes=\"(min-width: 768px) 276px, (min-width: 400px) 510px, (max-width: 400px) 276px, 276px\" data-lazy-src=\"https://f.hellowork.com/blogdumoderateur/2023/12/classement-langages-informatiques-tiobe-decembre-2023-276x144.jpg\" data-lazy-srcset=\"https://f.hellowork.com/blogdumoderateur/2023/12/classement-langages-informatiques-tiobe-decembre-2023-276x144.jpg 276w, https://f.hellowork.com/blogdumoderateur/2023/12/classement-langages-informatiques-tiobe-decembre-2023-510x267.jpg 510w, https://f.hellowork.com/blogdumoderateur/2023/12/classement-langages-informatiques-tiobe-decembre-2023-370x194.jpg 370w\" decoding=\"async\" height=\"144\" src=\"data:image/svg+xml,%3Csvg%20xmlns='http://www.w3.org/2000/svg'%20viewBox='0%200%20276%20144'%3E%3C/svg%3E\" width=\"276\"><noscript><img alt=\"Les 20 langages informatiques les plus populaires en décembre 2023\" class=\"attachment-thumbnail size-thumbnail wp-post-image\" decoding=\"async\" height=\"144\" sizes=\"(min-width: 768px) 276px, (min-width: 400px) 510px, (max-width: 400px) 276px, 276px\" src=\"https://f.hellowork.com/blogdumoderateur/2023/12/classement-langages-informatiques-tiobe-decembre-2023-276x144.jpg\" srcset=\"https://f.hellowork.com/blogdumoderateur/2023/12/classement-langages-informatiques-tiobe-decembre-2023-276x144.jpg 276w, https://f.hellowork.com/blogdumoderateur/2023/12/classement-langages-informatiques-tiobe-decembre-2023-510x267.jpg 510w, https://f.hellowork.com/blogdumoderateur/2023/12/classement-langages-informatiques-tiobe-decembre-2023-370x194.jpg 370w\" width=\"276\"/></noscript>\n </img></div><!-- .post-thumbnail -->\n <div class=\"entry-meta\">\n <span class=\"favtag color-b\">Développement</span>\n <span class=\"posted-on t-def px-3\"><time class=\"entry-date published updated\" datetime=\"2023-12-11T11:26:38+01:00\">11 décembre</time></span>\n <header class=\"entry-header pt-2\">\n <a href=\"https://www.blogdumoderateur.com/20-langages-informatiques-populaires-decembre-2023/\">\n <h3 class=\"entry-title\">Les 20 langages informatiques les plus populaires en décembre 2023</h3>\n </a>\n </header><!-- .entry-header -->\n </div>\n </article>,\n <article class=\"d-flex py-4_2 post-149278 post type-post status-publish format-standard has-post-thumbnail category-tech tag-ia\" id=\"post-149278\">\n <div class=\"post-thumbnail picture rounded-img\">\n <img alt=\"AI Act : que contient le texte européen pour réguler les usages de l’IA ?\" class=\"attachment-thumbnail size-thumbnail wp-post-image\" data-lazy-sizes=\"(min-width: 768px) 276px, (min-width: 400px) 510px, (max-width: 400px) 276px, 276px\" data-lazy-src=\"https://f.hellowork.com/blogdumoderateur/2023/12/AI-act-276x144.jpg\" data-lazy-srcset=\"https://f.hellowork.com/blogdumoderateur/2023/12/AI-act-276x144.jpg 276w, https://f.hellowork.com/blogdumoderateur/2023/12/AI-act-510x267.jpg 510w, https://f.hellowork.com/blogdumoderateur/2023/12/AI-act-370x194.jpg 370w\" decoding=\"async\" height=\"144\" src=\"data:image/svg+xml,%3Csvg%20xmlns='http://www.w3.org/2000/svg'%20viewBox='0%200%20276%20144'%3E%3C/svg%3E\" width=\"276\"/><noscript><img alt=\"AI Act : que contient le texte européen pour réguler les usages de l’IA ?\" class=\"attachment-thumbnail size-thumbnail wp-post-image\" decoding=\"async\" height=\"144\" sizes=\"(min-width: 768px) 276px, (min-width: 400px) 510px, (max-width: 400px) 276px, 276px\" src=\"https://f.hellowork.com/blogdumoderateur/2023/12/AI-act-276x144.jpg\" srcset=\"https://f.hellowork.com/blogdumoderateur/2023/12/AI-act-276x144.jpg 276w, https://f.hellowork.com/blogdumoderateur/2023/12/AI-act-510x267.jpg 510w, https://f.hellowork.com/blogdumoderateur/2023/12/AI-act-370x194.jpg 370w\" width=\"276\"/></noscript>\n </div><!-- .post-thumbnail -->\n <div class=\"entry-meta\">\n <span class=\"favtag color-b\">IA</span>\n <span class=\"posted-on t-def px-3\"><time class=\"entry-date published updated\" datetime=\"2023-12-11T11:03:42+01:00\">11 décembre</time></span>\n <header class=\"entry-header pt-2\">\n <a href=\"https://www.blogdumoderateur.com/ai-act-texte-europeen-reguler-usages-ia/\">\n <h3 class=\"entry-title\">AI Act : que contient le texte européen pour réguler les usages de l’IA ?</h3>\n </a>\n </header><!-- .entry-header -->\n </div>\n </article>,\n <article class=\"d-flex py-4_2 post-148472 post type-post status-publish format-standard has-post-thumbnail category-social tag-community-management tag-tendances\" id=\"post-148472\">\n <div class=\"post-thumbnail picture rounded-img\">\n <img alt=\"6 tendances social media pour gérer vos réseaux sociaux en 2024\" class=\"attachment-thumbnail size-thumbnail wp-post-image\" data-lazy-sizes=\"(min-width: 768px) 276px, (min-width: 400px) 510px, (max-width: 400px) 276px, 276px\" data-lazy-src=\"https://f.hellowork.com/blogdumoderateur/2023/12/tendances-social-media-2024-276x144.jpg\" data-lazy-srcset=\"https://f.hellowork.com/blogdumoderateur/2023/12/tendances-social-media-2024-276x144.jpg 276w, https://f.hellowork.com/blogdumoderateur/2023/12/tendances-social-media-2024-294x154.jpg 294w, https://f.hellowork.com/blogdumoderateur/2023/12/tendances-social-media-2024-664x347.jpg 664w, https://f.hellowork.com/blogdumoderateur/2023/12/tendances-social-media-2024-768x402.jpg 768w, https://f.hellowork.com/blogdumoderateur/2023/12/tendances-social-media-2024-510x267.jpg 510w, https://f.hellowork.com/blogdumoderateur/2023/12/tendances-social-media-2024-370x194.jpg 370w, https://f.hellowork.com/blogdumoderateur/2023/12/tendances-social-media-2024.jpg 1200w\" decoding=\"async\" height=\"144\" src=\"data:image/svg+xml,%3Csvg%20xmlns='http://www.w3.org/2000/svg'%20viewBox='0%200%20276%20144'%3E%3C/svg%3E\" width=\"276\"/><noscript><img alt=\"6 tendances social media pour gérer vos réseaux sociaux en 2024\" class=\"attachment-thumbnail size-thumbnail wp-post-image\" decoding=\"async\" height=\"144\" sizes=\"(min-width: 768px) 276px, (min-width: 400px) 510px, (max-width: 400px) 276px, 276px\" src=\"https://f.hellowork.com/blogdumoderateur/2023/12/tendances-social-media-2024-276x144.jpg\" srcset=\"https://f.hellowork.com/blogdumoderateur/2023/12/tendances-social-media-2024-276x144.jpg 276w, https://f.hellowork.com/blogdumoderateur/2023/12/tendances-social-media-2024-294x154.jpg 294w, https://f.hellowork.com/blogdumoderateur/2023/12/tendances-social-media-2024-664x347.jpg 664w, https://f.hellowork.com/blogdumoderateur/2023/12/tendances-social-media-2024-768x402.jpg 768w, https://f.hellowork.com/blogdumoderateur/2023/12/tendances-social-media-2024-510x267.jpg 510w, https://f.hellowork.com/blogdumoderateur/2023/12/tendances-social-media-2024-370x194.jpg 370w, https://f.hellowork.com/blogdumoderateur/2023/12/tendances-social-media-2024.jpg 1200w\" width=\"276\"/></noscript>\n </div><!-- .post-thumbnail -->\n <div class=\"entry-meta\">\n <span class=\"favtag color-b\">Tendances</span>\n <span class=\"posted-on t-def px-3\"><time class=\"entry-date published updated\" datetime=\"2023-12-11T09:30:44+01:00\">11 décembre</time></span>\n <header class=\"entry-header pt-2\">\n <a href=\"https://www.blogdumoderateur.com/6-tendances-social-media-2024/\">\n <h3 class=\"entry-title\">6 tendances social media pour gérer vos réseaux sociaux en 2024</h3>\n </a>\n </header><!-- .entry-header -->\n </div>\n </article>,\n <article class=\"d-flex py-4_2 post-149244 post type-post status-publish format-standard has-post-thumbnail category-web tag-google tag-moteurs-de-recherche\" id=\"post-149244\">\n <div class=\"post-thumbnail picture rounded-img\">\n <img alt=\"Google révèle les recherches les plus populaires de l’année 2023 en France\" class=\"attachment-thumbnail size-thumbnail wp-post-image\" data-lazy-sizes=\"(min-width: 768px) 276px, (min-width: 400px) 510px, (max-width: 400px) 276px, 276px\" data-lazy-src=\"https://f.hellowork.com/blogdumoderateur/2023/12/AdobeStock_467036300_Editorial_Use_Only-276x144.jpeg\" data-lazy-srcset=\"https://f.hellowork.com/blogdumoderateur/2023/12/AdobeStock_467036300_Editorial_Use_Only-276x144.jpeg 276w, https://f.hellowork.com/blogdumoderateur/2023/12/AdobeStock_467036300_Editorial_Use_Only-510x267.jpeg 510w, https://f.hellowork.com/blogdumoderateur/2023/12/AdobeStock_467036300_Editorial_Use_Only-370x194.jpeg 370w\" decoding=\"async\" height=\"144\" src=\"data:image/svg+xml,%3Csvg%20xmlns='http://www.w3.org/2000/svg'%20viewBox='0%200%20276%20144'%3E%3C/svg%3E\" width=\"276\"/><noscript><img alt=\"Google révèle les recherches les plus populaires de l’année 2023 en France\" class=\"attachment-thumbnail size-thumbnail wp-post-image\" decoding=\"async\" height=\"144\" sizes=\"(min-width: 768px) 276px, (min-width: 400px) 510px, (max-width: 400px) 276px, 276px\" src=\"https://f.hellowork.com/blogdumoderateur/2023/12/AdobeStock_467036300_Editorial_Use_Only-276x144.jpeg\" srcset=\"https://f.hellowork.com/blogdumoderateur/2023/12/AdobeStock_467036300_Editorial_Use_Only-276x144.jpeg 276w, https://f.hellowork.com/blogdumoderateur/2023/12/AdobeStock_467036300_Editorial_Use_Only-510x267.jpeg 510w, https://f.hellowork.com/blogdumoderateur/2023/12/AdobeStock_467036300_Editorial_Use_Only-370x194.jpeg 370w\" width=\"276\"/></noscript>\n </div><!-- .post-thumbnail -->\n <div class=\"entry-meta\">\n <span class=\"favtag color-b\">Google</span>\n <span class=\"posted-on t-def px-3\"><time class=\"entry-date published updated\" datetime=\"2023-12-11T09:01:27+01:00\">11 décembre</time></span>\n <header class=\"entry-header pt-2\">\n <a href=\"https://www.blogdumoderateur.com/google-revele-recherches-populaires-annee-2023-france/\">\n <h3 class=\"entry-title\">Google révèle les recherches les plus populaires de l’année 2023 en France</h3>\n </a>\n </header><!-- .entry-header -->\n </div>\n </article>,\n <article class=\"d-flex py-4_2 post-147922 post type-post status-publish format-standard has-post-thumbnail category-tech tag-culture-web\" id=\"post-147922\">\n <div class=\"post-thumbnail picture rounded-img\">\n <img alt=\"Du Virtual Boy au Nokia N-Gage, retour sur les plus grands échecs de la tech\" class=\"attachment-thumbnail size-thumbnail wp-post-image\" data-lazy-sizes=\"(min-width: 768px) 276px, (min-width: 400px) 510px, (max-width: 400px) 276px, 276px\" data-lazy-src=\"https://f.hellowork.com/blogdumoderateur/2023/11/Google_Glass_photo-276x144.jpg\" data-lazy-srcset=\"https://f.hellowork.com/blogdumoderateur/2023/11/Google_Glass_photo-276x144.jpg 276w, https://f.hellowork.com/blogdumoderateur/2023/11/Google_Glass_photo-510x267.jpg 510w, https://f.hellowork.com/blogdumoderateur/2023/11/Google_Glass_photo-370x194.jpg 370w\" decoding=\"async\" height=\"144\" src=\"data:image/svg+xml,%3Csvg%20xmlns='http://www.w3.org/2000/svg'%20viewBox='0%200%20276%20144'%3E%3C/svg%3E\" width=\"276\"/><noscript><img alt=\"Du Virtual Boy au Nokia N-Gage, retour sur les plus grands échecs de la tech\" class=\"attachment-thumbnail size-thumbnail wp-post-image\" decoding=\"async\" height=\"144\" sizes=\"(min-width: 768px) 276px, (min-width: 400px) 510px, (max-width: 400px) 276px, 276px\" src=\"https://f.hellowork.com/blogdumoderateur/2023/11/Google_Glass_photo-276x144.jpg\" srcset=\"https://f.hellowork.com/blogdumoderateur/2023/11/Google_Glass_photo-276x144.jpg 276w, https://f.hellowork.com/blogdumoderateur/2023/11/Google_Glass_photo-510x267.jpg 510w, https://f.hellowork.com/blogdumoderateur/2023/11/Google_Glass_photo-370x194.jpg 370w\" width=\"276\"/></noscript>\n </div><!-- .post-thumbnail -->\n <div class=\"entry-meta\">\n <span class=\"favtag color-b\">Culture web</span>\n <span class=\"posted-on t-def px-3\"><time class=\"entry-date published updated\" datetime=\"2023-12-09T09:00:35+01:00\">9 décembre</time></span>\n <header class=\"entry-header pt-2\">\n <a href=\"https://www.blogdumoderateur.com/virtual-boy-nokia-n-gage-retour-plus-grands-echecs-tech/\">\n <h3 class=\"entry-title\">Du Virtual Boy au Nokia N-Gage, retour sur les plus grands échecs de la tech</h3>\n </a>\n </header><!-- .entry-header -->\n </div>\n </article>,\n <article class=\"d-flex py-4_2 post-149188 post type-post status-publish format-standard has-post-thumbnail category-social tag-youtube\" id=\"post-149188\">\n <div class=\"post-thumbnail picture rounded-img\">\n <img alt=\"YouTube dévoile le top 10 des vidéos les plus vues en France en 2023\" class=\"attachment-thumbnail size-thumbnail wp-post-image\" data-lazy-sizes=\"(min-width: 768px) 276px, (min-width: 400px) 510px, (max-width: 400px) 276px, 276px\" data-lazy-src=\"https://f.hellowork.com/blogdumoderateur/2023/12/Classement-videos-YouTube-2023-276x144.jpg\" data-lazy-srcset=\"https://f.hellowork.com/blogdumoderateur/2023/12/Classement-videos-YouTube-2023-276x144.jpg 276w, https://f.hellowork.com/blogdumoderateur/2023/12/Classement-videos-YouTube-2023-510x267.jpg 510w, https://f.hellowork.com/blogdumoderateur/2023/12/Classement-videos-YouTube-2023-370x194.jpg 370w\" decoding=\"async\" height=\"144\" src=\"data:image/svg+xml,%3Csvg%20xmlns='http://www.w3.org/2000/svg'%20viewBox='0%200%20276%20144'%3E%3C/svg%3E\" width=\"276\"><noscript><img alt=\"YouTube dévoile le top 10 des vidéos les plus vues en France en 2023\" class=\"attachment-thumbnail size-thumbnail wp-post-image\" decoding=\"async\" height=\"144\" sizes=\"(min-width: 768px) 276px, (min-width: 400px) 510px, (max-width: 400px) 276px, 276px\" src=\"https://f.hellowork.com/blogdumoderateur/2023/12/Classement-videos-YouTube-2023-276x144.jpg\" srcset=\"https://f.hellowork.com/blogdumoderateur/2023/12/Classement-videos-YouTube-2023-276x144.jpg 276w, https://f.hellowork.com/blogdumoderateur/2023/12/Classement-videos-YouTube-2023-510x267.jpg 510w, https://f.hellowork.com/blogdumoderateur/2023/12/Classement-videos-YouTube-2023-370x194.jpg 370w\" width=\"276\"/></noscript>\n </img></div><!-- .post-thumbnail -->\n <div class=\"entry-meta\">\n <span class=\"favtag color-b\">YouTube</span>\n <span class=\"posted-on t-def px-3\"><time class=\"entry-date published updated\" datetime=\"2023-12-08T11:27:42+01:00\">8 décembre</time></span>\n <header class=\"entry-header pt-2\">\n <a href=\"https://www.blogdumoderateur.com/youtube-top-10-videos-plus-vues-france-2023/\">\n <h3 class=\"entry-title\">YouTube dévoile le top 10 des vidéos les plus vues en France en 2023</h3>\n </a>\n </header><!-- .entry-header -->\n </div>\n </article>,\n <article class=\"d-flex py-4_2 post-149185 post type-post status-publish format-standard has-post-thumbnail category-social tag-whatsapp\" id=\"post-149185\">\n <div class=\"post-thumbnail picture rounded-img\">\n <img alt=\"WhatsApp : comment envoyer des messages vocaux éphémères\" class=\"attachment-thumbnail size-thumbnail wp-post-image\" data-lazy-sizes=\"(min-width: 768px) 276px, (min-width: 400px) 510px, (max-width: 400px) 276px, 276px\" data-lazy-src=\"https://f.hellowork.com/blogdumoderateur/2023/12/whatsapp-messages-vocaux-lecture-unique-276x144.jpg\" data-lazy-srcset=\"https://f.hellowork.com/blogdumoderateur/2023/12/whatsapp-messages-vocaux-lecture-unique-276x144.jpg 276w, https://f.hellowork.com/blogdumoderateur/2023/12/whatsapp-messages-vocaux-lecture-unique-510x267.jpg 510w, https://f.hellowork.com/blogdumoderateur/2023/12/whatsapp-messages-vocaux-lecture-unique-370x194.jpg 370w\" decoding=\"async\" height=\"144\" src=\"data:image/svg+xml,%3Csvg%20xmlns='http://www.w3.org/2000/svg'%20viewBox='0%200%20276%20144'%3E%3C/svg%3E\" width=\"276\"><noscript><img alt=\"WhatsApp : comment envoyer des messages vocaux éphémères\" class=\"attachment-thumbnail size-thumbnail wp-post-image\" decoding=\"async\" height=\"144\" sizes=\"(min-width: 768px) 276px, (min-width: 400px) 510px, (max-width: 400px) 276px, 276px\" src=\"https://f.hellowork.com/blogdumoderateur/2023/12/whatsapp-messages-vocaux-lecture-unique-276x144.jpg\" srcset=\"https://f.hellowork.com/blogdumoderateur/2023/12/whatsapp-messages-vocaux-lecture-unique-276x144.jpg 276w, https://f.hellowork.com/blogdumoderateur/2023/12/whatsapp-messages-vocaux-lecture-unique-510x267.jpg 510w, https://f.hellowork.com/blogdumoderateur/2023/12/whatsapp-messages-vocaux-lecture-unique-370x194.jpg 370w\" width=\"276\"/></noscript>\n </img></div><!-- .post-thumbnail -->\n <div class=\"entry-meta\">\n <span class=\"favtag color-b\">WhatsApp</span>\n <span class=\"posted-on t-def px-3\"><time class=\"entry-date published updated\" datetime=\"2023-12-08T10:36:06+01:00\">8 décembre</time></span>\n <header class=\"entry-header pt-2\">\n <a href=\"https://www.blogdumoderateur.com/whatsapp-comment-envoyer-messages-vocaux-ephemeres/\">\n <h3 class=\"entry-title\">WhatsApp : comment envoyer des messages vocaux éphémères</h3>\n </a>\n </header><!-- .entry-header -->\n </div>\n </article>,\n <article class=\"d-flex py-4_2 post-147936 post type-post status-publish format-standard has-post-thumbnail category-web tag-tendances tag-video\" id=\"post-147936\">\n <div class=\"post-thumbnail picture rounded-img\">\n <img alt=\"4 tendances pour générer de l’engagement grâce à la vidéo en 2024\" class=\"attachment-thumbnail size-thumbnail wp-post-image\" data-lazy-sizes=\"(min-width: 768px) 276px, (min-width: 400px) 510px, (max-width: 400px) 276px, 276px\" data-lazy-src=\"https://f.hellowork.com/blogdumoderateur/2023/12/tendances-video-2024-276x144.jpg\" data-lazy-srcset=\"https://f.hellowork.com/blogdumoderateur/2023/12/tendances-video-2024-276x144.jpg 276w, https://f.hellowork.com/blogdumoderateur/2023/12/tendances-video-2024-294x154.jpg 294w, https://f.hellowork.com/blogdumoderateur/2023/12/tendances-video-2024-664x347.jpg 664w, https://f.hellowork.com/blogdumoderateur/2023/12/tendances-video-2024-768x402.jpg 768w, https://f.hellowork.com/blogdumoderateur/2023/12/tendances-video-2024-510x267.jpg 510w, https://f.hellowork.com/blogdumoderateur/2023/12/tendances-video-2024-370x194.jpg 370w, https://f.hellowork.com/blogdumoderateur/2023/12/tendances-video-2024.jpg 1200w\" decoding=\"async\" height=\"144\" src=\"data:image/svg+xml,%3Csvg%20xmlns='http://www.w3.org/2000/svg'%20viewBox='0%200%20276%20144'%3E%3C/svg%3E\" width=\"276\"><noscript><img alt=\"4 tendances pour générer de l’engagement grâce à la vidéo en 2024\" class=\"attachment-thumbnail size-thumbnail wp-post-image\" decoding=\"async\" height=\"144\" sizes=\"(min-width: 768px) 276px, (min-width: 400px) 510px, (max-width: 400px) 276px, 276px\" src=\"https://f.hellowork.com/blogdumoderateur/2023/12/tendances-video-2024-276x144.jpg\" srcset=\"https://f.hellowork.com/blogdumoderateur/2023/12/tendances-video-2024-276x144.jpg 276w, https://f.hellowork.com/blogdumoderateur/2023/12/tendances-video-2024-294x154.jpg 294w, https://f.hellowork.com/blogdumoderateur/2023/12/tendances-video-2024-664x347.jpg 664w, https://f.hellowork.com/blogdumoderateur/2023/12/tendances-video-2024-768x402.jpg 768w, https://f.hellowork.com/blogdumoderateur/2023/12/tendances-video-2024-510x267.jpg 510w, https://f.hellowork.com/blogdumoderateur/2023/12/tendances-video-2024-370x194.jpg 370w, https://f.hellowork.com/blogdumoderateur/2023/12/tendances-video-2024.jpg 1200w\" width=\"276\"/></noscript>\n </img></div><!-- .post-thumbnail -->\n <div class=\"entry-meta\">\n <span class=\"favtag color-b\">Tendances</span>\n <span class=\"posted-on t-def px-3\"><time class=\"entry-date published updated\" datetime=\"2023-12-08T09:17:18+01:00\">8 décembre</time></span>\n <header class=\"entry-header pt-2\">\n <a href=\"https://www.blogdumoderateur.com/4-tendances-generer-engagement-video-2024/\">\n <h3 class=\"entry-title\">4 tendances pour générer de l’engagement grâce à la vidéo en 2024</h3>\n </a>\n </header><!-- .entry-header -->\n </div>\n </article>,\n <article class=\"d-flex py-4_2 post-149124 post type-post status-publish format-standard has-post-thumbnail category-web tag-ia\" id=\"post-149124\">\n <div class=\"post-thumbnail picture rounded-img\">\n <img alt=\"Comment l’IA peut favoriser l’inclusion des personnes en situation de handicap\" class=\"attachment-thumbnail size-thumbnail wp-post-image\" data-lazy-sizes=\"(min-width: 768px) 276px, (min-width: 400px) 510px, (max-width: 400px) 276px, 276px\" data-lazy-src=\"https://f.hellowork.com/blogdumoderateur/2023/12/TechRock-Summit-Emmanuelle-Aboaf-276x144.jpg\" data-lazy-srcset=\"https://f.hellowork.com/blogdumoderateur/2023/12/TechRock-Summit-Emmanuelle-Aboaf-276x144.jpg 276w, https://f.hellowork.com/blogdumoderateur/2023/12/TechRock-Summit-Emmanuelle-Aboaf-510x267.jpg 510w, https://f.hellowork.com/blogdumoderateur/2023/12/TechRock-Summit-Emmanuelle-Aboaf-370x194.jpg 370w\" decoding=\"async\" height=\"144\" src=\"data:image/svg+xml,%3Csvg%20xmlns='http://www.w3.org/2000/svg'%20viewBox='0%200%20276%20144'%3E%3C/svg%3E\" width=\"276\"><noscript><img alt=\"Comment l’IA peut favoriser l’inclusion des personnes en situation de handicap\" class=\"attachment-thumbnail size-thumbnail wp-post-image\" decoding=\"async\" height=\"144\" sizes=\"(min-width: 768px) 276px, (min-width: 400px) 510px, (max-width: 400px) 276px, 276px\" src=\"https://f.hellowork.com/blogdumoderateur/2023/12/TechRock-Summit-Emmanuelle-Aboaf-276x144.jpg\" srcset=\"https://f.hellowork.com/blogdumoderateur/2023/12/TechRock-Summit-Emmanuelle-Aboaf-276x144.jpg 276w, https://f.hellowork.com/blogdumoderateur/2023/12/TechRock-Summit-Emmanuelle-Aboaf-510x267.jpg 510w, https://f.hellowork.com/blogdumoderateur/2023/12/TechRock-Summit-Emmanuelle-Aboaf-370x194.jpg 370w\" width=\"276\"/></noscript>\n </img></div><!-- .post-thumbnail -->\n <div class=\"entry-meta\">\n <span class=\"favtag color-b\">IA</span>\n <span class=\"posted-on t-def px-3\"><time class=\"entry-date published updated\" datetime=\"2023-12-07T18:15:27+01:00\">7 décembre</time></span>\n <header class=\"entry-header pt-2\">\n <a href=\"https://www.blogdumoderateur.com/comment-ia-peut-favoriser-inclusion-personnes-situation-handicap/\">\n <h3 class=\"entry-title\">Comment l’IA peut favoriser l’inclusion des personnes en situation de handicap</h3>\n </a>\n </header><!-- .entry-header -->\n </div>\n </article>,\n <article class=\"d-flex py-4_2 post-149068 post type-post status-publish format-standard has-post-thumbnail category-tech tag-ia\" id=\"post-149068\">\n <div class=\"post-thumbnail picture rounded-img\">\n <img alt=\"Mistral AI, la startup française qui veut rivaliser avec OpenAI dès 2024\" class=\"attachment-thumbnail size-thumbnail wp-post-image\" data-lazy-sizes=\"(min-width: 768px) 276px, (min-width: 400px) 510px, (max-width: 400px) 276px, 276px\" data-lazy-src=\"https://f.hellowork.com/blogdumoderateur/2023/12/mistral-ai-startup-276x144.jpg\" data-lazy-srcset=\"https://f.hellowork.com/blogdumoderateur/2023/12/mistral-ai-startup-276x144.jpg 276w, https://f.hellowork.com/blogdumoderateur/2023/12/mistral-ai-startup-510x267.jpg 510w, https://f.hellowork.com/blogdumoderateur/2023/12/mistral-ai-startup-370x194.jpg 370w\" decoding=\"async\" height=\"144\" src=\"data:image/svg+xml,%3Csvg%20xmlns='http://www.w3.org/2000/svg'%20viewBox='0%200%20276%20144'%3E%3C/svg%3E\" width=\"276\"><noscript><img alt=\"Mistral AI, la startup française qui veut rivaliser avec OpenAI dès 2024\" class=\"attachment-thumbnail size-thumbnail wp-post-image\" decoding=\"async\" height=\"144\" sizes=\"(min-width: 768px) 276px, (min-width: 400px) 510px, (max-width: 400px) 276px, 276px\" src=\"https://f.hellowork.com/blogdumoderateur/2023/12/mistral-ai-startup-276x144.jpg\" srcset=\"https://f.hellowork.com/blogdumoderateur/2023/12/mistral-ai-startup-276x144.jpg 276w, https://f.hellowork.com/blogdumoderateur/2023/12/mistral-ai-startup-510x267.jpg 510w, https://f.hellowork.com/blogdumoderateur/2023/12/mistral-ai-startup-370x194.jpg 370w\" width=\"276\"/></noscript>\n </img></div><!-- .post-thumbnail -->\n <div class=\"entry-meta\">\n <span class=\"favtag color-b\">IA</span>\n <span class=\"posted-on t-def px-3\"><time class=\"entry-date published updated\" datetime=\"2023-12-07T17:15:58+01:00\">7 décembre</time></span>\n <header class=\"entry-header pt-2\">\n <a href=\"https://www.blogdumoderateur.com/mistral-ai-interview-cto-timothee-lacroix/\">\n <h3 class=\"entry-title\">Mistral AI, la startup française qui veut rivaliser avec OpenAI dès 2024</h3>\n </a>\n </header><!-- .entry-header -->\n </div>\n </article>,\n <article class=\"d-flex py-4_2 post-149100 post type-post status-publish format-standard has-post-thumbnail category-tech tag-ia\" id=\"post-149100\">\n <div class=\"post-thumbnail picture rounded-img\">\n <img alt=\"IA faible ou IA forte : quelle est la différence ?\" class=\"attachment-thumbnail size-thumbnail wp-post-image\" data-lazy-sizes=\"(min-width: 768px) 276px, (min-width: 400px) 510px, (max-width: 400px) 276px, 276px\" data-lazy-src=\"https://f.hellowork.com/blogdumoderateur/2023/12/imagine-summit-ia-faible-ia-forte-276x144.jpg\" data-lazy-srcset=\"https://f.hellowork.com/blogdumoderateur/2023/12/imagine-summit-ia-faible-ia-forte-276x144.jpg 276w, https://f.hellowork.com/blogdumoderateur/2023/12/imagine-summit-ia-faible-ia-forte-510x267.jpg 510w, https://f.hellowork.com/blogdumoderateur/2023/12/imagine-summit-ia-faible-ia-forte-370x194.jpg 370w\" decoding=\"async\" height=\"144\" src=\"data:image/svg+xml,%3Csvg%20xmlns='http://www.w3.org/2000/svg'%20viewBox='0%200%20276%20144'%3E%3C/svg%3E\" width=\"276\"><noscript><img alt=\"IA faible ou IA forte : quelle est la différence ?\" class=\"attachment-thumbnail size-thumbnail wp-post-image\" decoding=\"async\" height=\"144\" sizes=\"(min-width: 768px) 276px, (min-width: 400px) 510px, (max-width: 400px) 276px, 276px\" src=\"https://f.hellowork.com/blogdumoderateur/2023/12/imagine-summit-ia-faible-ia-forte-276x144.jpg\" srcset=\"https://f.hellowork.com/blogdumoderateur/2023/12/imagine-summit-ia-faible-ia-forte-276x144.jpg 276w, https://f.hellowork.com/blogdumoderateur/2023/12/imagine-summit-ia-faible-ia-forte-510x267.jpg 510w, https://f.hellowork.com/blogdumoderateur/2023/12/imagine-summit-ia-faible-ia-forte-370x194.jpg 370w\" width=\"276\"/></noscript>\n </img></div><!-- .post-thumbnail -->\n <div class=\"entry-meta\">\n <span class=\"favtag color-b\">IA</span>\n <span class=\"posted-on t-def px-3\"><time class=\"entry-date published updated\" datetime=\"2023-12-07T15:16:20+01:00\">7 décembre</time></span>\n <header class=\"entry-header pt-2\">\n <a href=\"https://www.blogdumoderateur.com/ia-faible-ia-forte-quelle-difference/\">\n <h3 class=\"entry-title\">IA faible ou IA forte : quelle est la différence ?</h3>\n </a>\n </header><!-- .entry-header -->\n </div>\n </article>,\n <article class=\"d-flex py-4_2 post-148560 post type-post status-publish format-standard has-post-thumbnail category-marketing tag-formation tag-gestion-projet tag-interviews tag-strategie-digitale tag-travailler-digital\" id=\"post-148560\">\n <div class=\"post-thumbnail picture rounded-img\">\n <img alt=\"Product owner : un métier passionnant pour offrir la meilleure expérience aux utilisateurs\" class=\"attachment-thumbnail size-thumbnail wp-post-image\" data-lazy-sizes=\"(min-width: 768px) 276px, (min-width: 400px) 510px, (max-width: 400px) 276px, 276px\" data-lazy-src=\"https://f.hellowork.com/blogdumoderateur/2023/12/product-owner-metier-passionnant-offrir-meilleure-experience-utilisateurs-276x144.jpg\" data-lazy-srcset=\"https://f.hellowork.com/blogdumoderateur/2023/12/product-owner-metier-passionnant-offrir-meilleure-experience-utilisateurs-276x144.jpg 276w, https://f.hellowork.com/blogdumoderateur/2023/12/product-owner-metier-passionnant-offrir-meilleure-experience-utilisateurs-510x267.jpg 510w, https://f.hellowork.com/blogdumoderateur/2023/12/product-owner-metier-passionnant-offrir-meilleure-experience-utilisateurs-370x194.jpg 370w\" decoding=\"async\" height=\"144\" src=\"data:image/svg+xml,%3Csvg%20xmlns='http://www.w3.org/2000/svg'%20viewBox='0%200%20276%20144'%3E%3C/svg%3E\" width=\"276\"><noscript><img alt=\"Product owner : un métier passionnant pour offrir la meilleure expérience aux utilisateurs\" class=\"attachment-thumbnail size-thumbnail wp-post-image\" decoding=\"async\" height=\"144\" sizes=\"(min-width: 768px) 276px, (min-width: 400px) 510px, (max-width: 400px) 276px, 276px\" src=\"https://f.hellowork.com/blogdumoderateur/2023/12/product-owner-metier-passionnant-offrir-meilleure-experience-utilisateurs-276x144.jpg\" srcset=\"https://f.hellowork.com/blogdumoderateur/2023/12/product-owner-metier-passionnant-offrir-meilleure-experience-utilisateurs-276x144.jpg 276w, https://f.hellowork.com/blogdumoderateur/2023/12/product-owner-metier-passionnant-offrir-meilleure-experience-utilisateurs-510x267.jpg 510w, https://f.hellowork.com/blogdumoderateur/2023/12/product-owner-metier-passionnant-offrir-meilleure-experience-utilisateurs-370x194.jpg 370w\" width=\"276\"/></noscript>\n </img></div><!-- .post-thumbnail -->\n <div class=\"entry-meta\">\n <span class=\"favtag color-b\">Formation</span>\n <span class=\"posted-on t-def px-3\"><time class=\"entry-date published updated\" datetime=\"2023-12-07T11:41:38+01:00\">7 décembre</time></span>\n <header class=\"entry-header pt-2\">\n <a href=\"https://www.blogdumoderateur.com/product-owner-metier-passionnant-offrir-meilleure-experience-utilisateurs/\">\n <h3 class=\"entry-title\">Product owner : un métier passionnant pour offrir la meilleure expérience aux utilisateurs</h3>\n </a>\n </header><!-- .entry-header -->\n </div>\n </article>,\n <article class=\"d-flex py-4_2 post-149063 post type-post status-publish format-standard has-post-thumbnail category-tech tag-ia tag-meta\" id=\"post-149063\">\n <div class=\"post-thumbnail picture rounded-img\">\n <img alt=\"Meta dévoile un nouveau générateur d’images par IA : ce qu’il faut savoir\" class=\"attachment-thumbnail size-thumbnail wp-post-image\" data-lazy-sizes=\"(min-width: 768px) 276px, (min-width: 400px) 510px, (max-width: 400px) 276px, 276px\" data-lazy-src=\"https://f.hellowork.com/blogdumoderateur/2023/12/imagine-with-meta-276x144.jpg\" data-lazy-srcset=\"https://f.hellowork.com/blogdumoderateur/2023/12/imagine-with-meta-276x144.jpg 276w, https://f.hellowork.com/blogdumoderateur/2023/12/imagine-with-meta-510x267.jpg 510w, https://f.hellowork.com/blogdumoderateur/2023/12/imagine-with-meta-370x194.jpg 370w\" decoding=\"async\" height=\"144\" src=\"data:image/svg+xml,%3Csvg%20xmlns='http://www.w3.org/2000/svg'%20viewBox='0%200%20276%20144'%3E%3C/svg%3E\" width=\"276\"><noscript><img alt=\"Meta dévoile un nouveau générateur d’images par IA : ce qu’il faut savoir\" class=\"attachment-thumbnail size-thumbnail wp-post-image\" decoding=\"async\" height=\"144\" sizes=\"(min-width: 768px) 276px, (min-width: 400px) 510px, (max-width: 400px) 276px, 276px\" src=\"https://f.hellowork.com/blogdumoderateur/2023/12/imagine-with-meta-276x144.jpg\" srcset=\"https://f.hellowork.com/blogdumoderateur/2023/12/imagine-with-meta-276x144.jpg 276w, https://f.hellowork.com/blogdumoderateur/2023/12/imagine-with-meta-510x267.jpg 510w, https://f.hellowork.com/blogdumoderateur/2023/12/imagine-with-meta-370x194.jpg 370w\" width=\"276\"/></noscript>\n </img></div><!-- .post-thumbnail -->\n <div class=\"entry-meta\">\n <span class=\"favtag color-b\">IA</span>\n <span class=\"posted-on t-def px-3\"><time class=\"entry-date published updated\" datetime=\"2023-12-07T11:26:09+01:00\">7 décembre</time></span>\n <header class=\"entry-header pt-2\">\n <a href=\"https://www.blogdumoderateur.com/meta-devoile-nouveau-generateur-images-ia/\">\n <h3 class=\"entry-title\">Meta dévoile un nouveau générateur d’images par IA : ce qu’il faut savoir</h3>\n </a>\n </header><!-- .entry-header -->\n </div>\n </article>,\n <article class=\"d-flex py-4_2 post-147799 post type-post status-publish format-standard has-post-thumbnail category-web tag-donnees-personnelles tag-tendances\" id=\"post-147799\">\n <div class=\"post-thumbnail picture rounded-img\">\n <img alt=\"4 tendances pour une collecte de données efficace en 2024\" class=\"attachment-thumbnail size-thumbnail wp-post-image\" data-lazy-sizes=\"(min-width: 768px) 276px, (min-width: 400px) 510px, (max-width: 400px) 276px, 276px\" data-lazy-src=\"https://f.hellowork.com/blogdumoderateur/2023/12/tendances-2024-collecte-donnees-276x144.jpg\" data-lazy-srcset=\"https://f.hellowork.com/blogdumoderateur/2023/12/tendances-2024-collecte-donnees-276x144.jpg 276w, https://f.hellowork.com/blogdumoderateur/2023/12/tendances-2024-collecte-donnees-294x154.jpg 294w, https://f.hellowork.com/blogdumoderateur/2023/12/tendances-2024-collecte-donnees-664x347.jpg 664w, https://f.hellowork.com/blogdumoderateur/2023/12/tendances-2024-collecte-donnees-768x402.jpg 768w, https://f.hellowork.com/blogdumoderateur/2023/12/tendances-2024-collecte-donnees-510x267.jpg 510w, https://f.hellowork.com/blogdumoderateur/2023/12/tendances-2024-collecte-donnees-370x194.jpg 370w, https://f.hellowork.com/blogdumoderateur/2023/12/tendances-2024-collecte-donnees.jpg 1200w\" decoding=\"async\" height=\"144\" src=\"data:image/svg+xml,%3Csvg%20xmlns='http://www.w3.org/2000/svg'%20viewBox='0%200%20276%20144'%3E%3C/svg%3E\" width=\"276\"/><noscript><img alt=\"4 tendances pour une collecte de données efficace en 2024\" class=\"attachment-thumbnail size-thumbnail wp-post-image\" decoding=\"async\" height=\"144\" sizes=\"(min-width: 768px) 276px, (min-width: 400px) 510px, (max-width: 400px) 276px, 276px\" src=\"https://f.hellowork.com/blogdumoderateur/2023/12/tendances-2024-collecte-donnees-276x144.jpg\" srcset=\"https://f.hellowork.com/blogdumoderateur/2023/12/tendances-2024-collecte-donnees-276x144.jpg 276w, https://f.hellowork.com/blogdumoderateur/2023/12/tendances-2024-collecte-donnees-294x154.jpg 294w, https://f.hellowork.com/blogdumoderateur/2023/12/tendances-2024-collecte-donnees-664x347.jpg 664w, https://f.hellowork.com/blogdumoderateur/2023/12/tendances-2024-collecte-donnees-768x402.jpg 768w, https://f.hellowork.com/blogdumoderateur/2023/12/tendances-2024-collecte-donnees-510x267.jpg 510w, https://f.hellowork.com/blogdumoderateur/2023/12/tendances-2024-collecte-donnees-370x194.jpg 370w, https://f.hellowork.com/blogdumoderateur/2023/12/tendances-2024-collecte-donnees.jpg 1200w\" width=\"276\"/></noscript>\n </div><!-- .post-thumbnail -->\n <div class=\"entry-meta\">\n <span class=\"favtag color-b\">Tendances</span>\n <span class=\"posted-on t-def px-3\"><time class=\"entry-date published updated\" datetime=\"2023-12-07T10:12:26+01:00\">7 décembre</time></span>\n <header class=\"entry-header pt-2\">\n <a href=\"https://www.blogdumoderateur.com/4-tendances-collecte-de-donnees-2024/\">\n <h3 class=\"entry-title\">4 tendances pour une collecte de données efficace en 2024</h3>\n </a>\n </header><!-- .entry-header -->\n </div>\n </article>,\n <article class=\"post-148472 post type-post status-publish format-standard has-post-thumbnail category-social tag-community-management tag-tendances\" id=\"post-148472\">\n <div class=\"post-thumbnail\">\n <img alt=\"6 tendances social media pour gérer vos réseaux sociaux en 2024\" class=\"attachment-serp-card size-serp-card wp-post-image\" data-lazy-sizes=\"(min-width: 992px) 370px, (min-width: 768px) 276px, (min-width: 400px) 510px, (max-width: 400px) 276px, 276px\" data-lazy-src=\"https://f.hellowork.com/blogdumoderateur/2023/12/tendances-social-media-2024-370x194.jpg\" data-lazy-srcset=\"https://f.hellowork.com/blogdumoderateur/2023/12/tendances-social-media-2024-370x194.jpg 370w, https://f.hellowork.com/blogdumoderateur/2023/12/tendances-social-media-2024-294x154.jpg 294w, https://f.hellowork.com/blogdumoderateur/2023/12/tendances-social-media-2024-664x347.jpg 664w, https://f.hellowork.com/blogdumoderateur/2023/12/tendances-social-media-2024-276x144.jpg 276w, https://f.hellowork.com/blogdumoderateur/2023/12/tendances-social-media-2024-768x402.jpg 768w, https://f.hellowork.com/blogdumoderateur/2023/12/tendances-social-media-2024-510x267.jpg 510w, https://f.hellowork.com/blogdumoderateur/2023/12/tendances-social-media-2024.jpg 1200w\" decoding=\"async\" fetchpriority=\"high\" height=\"194\" src=\"data:image/svg+xml,%3Csvg%20xmlns='http://www.w3.org/2000/svg'%20viewBox='0%200%20370%20194'%3E%3C/svg%3E\" width=\"370\"/><noscript><img alt=\"6 tendances social media pour gérer vos réseaux sociaux en 2024\" class=\"attachment-serp-card size-serp-card wp-post-image\" decoding=\"async\" fetchpriority=\"high\" height=\"194\" sizes=\"(min-width: 992px) 370px, (min-width: 768px) 276px, (min-width: 400px) 510px, (max-width: 400px) 276px, 276px\" src=\"https://f.hellowork.com/blogdumoderateur/2023/12/tendances-social-media-2024-370x194.jpg\" srcset=\"https://f.hellowork.com/blogdumoderateur/2023/12/tendances-social-media-2024-370x194.jpg 370w, https://f.hellowork.com/blogdumoderateur/2023/12/tendances-social-media-2024-294x154.jpg 294w, https://f.hellowork.com/blogdumoderateur/2023/12/tendances-social-media-2024-664x347.jpg 664w, https://f.hellowork.com/blogdumoderateur/2023/12/tendances-social-media-2024-276x144.jpg 276w, https://f.hellowork.com/blogdumoderateur/2023/12/tendances-social-media-2024-768x402.jpg 768w, https://f.hellowork.com/blogdumoderateur/2023/12/tendances-social-media-2024-510x267.jpg 510w, https://f.hellowork.com/blogdumoderateur/2023/12/tendances-social-media-2024.jpg 1200w\" width=\"370\"/></noscript>\n </div><!-- .post-thumbnail -->\n <div class=\"entry-meta p-3_2\">\n <span class=\"favtag\">Tendances</span>\n <span class=\"posted-on t-def ps-3_2\"><time class=\"entry-date published updated\" datetime=\"2023-12-11T09:30:44+01:00\">11 décembre</time></span>\n <header class=\"entry-header pt-2\">\n <h3 class=\"entry-title h3bis\">6 tendances social media pour gérer vos réseaux sociaux en 2024</h3>\n </header><!-- .entry-header -->\n </div>\n </article>,\n <article class=\"post-147936 post type-post status-publish format-standard has-post-thumbnail category-web tag-tendances tag-video\" id=\"post-147936\">\n <div class=\"post-thumbnail\">\n <img alt=\"4 tendances pour générer de l’engagement grâce à la vidéo en 2024\" class=\"attachment-serp-card size-serp-card wp-post-image\" data-lazy-sizes=\"(min-width: 992px) 370px, (min-width: 768px) 276px, (min-width: 400px) 510px, (max-width: 400px) 276px, 276px\" data-lazy-src=\"https://f.hellowork.com/blogdumoderateur/2023/12/tendances-video-2024-370x194.jpg\" data-lazy-srcset=\"https://f.hellowork.com/blogdumoderateur/2023/12/tendances-video-2024-370x194.jpg 370w, https://f.hellowork.com/blogdumoderateur/2023/12/tendances-video-2024-294x154.jpg 294w, https://f.hellowork.com/blogdumoderateur/2023/12/tendances-video-2024-664x347.jpg 664w, https://f.hellowork.com/blogdumoderateur/2023/12/tendances-video-2024-276x144.jpg 276w, https://f.hellowork.com/blogdumoderateur/2023/12/tendances-video-2024-768x402.jpg 768w, https://f.hellowork.com/blogdumoderateur/2023/12/tendances-video-2024-510x267.jpg 510w, https://f.hellowork.com/blogdumoderateur/2023/12/tendances-video-2024.jpg 1200w\" decoding=\"async\" height=\"194\" src=\"data:image/svg+xml,%3Csvg%20xmlns='http://www.w3.org/2000/svg'%20viewBox='0%200%20370%20194'%3E%3C/svg%3E\" width=\"370\"/><noscript><img alt=\"4 tendances pour générer de l’engagement grâce à la vidéo en 2024\" class=\"attachment-serp-card size-serp-card wp-post-image\" decoding=\"async\" height=\"194\" sizes=\"(min-width: 992px) 370px, (min-width: 768px) 276px, (min-width: 400px) 510px, (max-width: 400px) 276px, 276px\" src=\"https://f.hellowork.com/blogdumoderateur/2023/12/tendances-video-2024-370x194.jpg\" srcset=\"https://f.hellowork.com/blogdumoderateur/2023/12/tendances-video-2024-370x194.jpg 370w, https://f.hellowork.com/blogdumoderateur/2023/12/tendances-video-2024-294x154.jpg 294w, https://f.hellowork.com/blogdumoderateur/2023/12/tendances-video-2024-664x347.jpg 664w, https://f.hellowork.com/blogdumoderateur/2023/12/tendances-video-2024-276x144.jpg 276w, https://f.hellowork.com/blogdumoderateur/2023/12/tendances-video-2024-768x402.jpg 768w, https://f.hellowork.com/blogdumoderateur/2023/12/tendances-video-2024-510x267.jpg 510w, https://f.hellowork.com/blogdumoderateur/2023/12/tendances-video-2024.jpg 1200w\" width=\"370\"/></noscript>\n </div><!-- .post-thumbnail -->\n <div class=\"entry-meta p-3_2\">\n <span class=\"favtag\">Tendances</span>\n <span class=\"posted-on t-def ps-3_2\"><time class=\"entry-date published updated\" datetime=\"2023-12-08T09:17:18+01:00\">8 décembre</time></span>\n <header class=\"entry-header pt-2\">\n <h3 class=\"entry-title h3bis\">4 tendances pour générer de l’engagement grâce à la vidéo en 2024</h3>\n </header><!-- .entry-header -->\n </div>\n </article>,\n <article class=\"post-147799 post type-post status-publish format-standard has-post-thumbnail category-web tag-donnees-personnelles tag-tendances\" id=\"post-147799\">\n <div class=\"post-thumbnail\">\n <img alt=\"4 tendances pour une collecte de données efficace en 2024\" class=\"attachment-serp-card size-serp-card wp-post-image\" data-lazy-sizes=\"(min-width: 992px) 370px, (min-width: 768px) 276px, (min-width: 400px) 510px, (max-width: 400px) 276px, 276px\" data-lazy-src=\"https://f.hellowork.com/blogdumoderateur/2023/12/tendances-2024-collecte-donnees-370x194.jpg\" data-lazy-srcset=\"https://f.hellowork.com/blogdumoderateur/2023/12/tendances-2024-collecte-donnees-370x194.jpg 370w, https://f.hellowork.com/blogdumoderateur/2023/12/tendances-2024-collecte-donnees-294x154.jpg 294w, https://f.hellowork.com/blogdumoderateur/2023/12/tendances-2024-collecte-donnees-664x347.jpg 664w, https://f.hellowork.com/blogdumoderateur/2023/12/tendances-2024-collecte-donnees-276x144.jpg 276w, https://f.hellowork.com/blogdumoderateur/2023/12/tendances-2024-collecte-donnees-768x402.jpg 768w, https://f.hellowork.com/blogdumoderateur/2023/12/tendances-2024-collecte-donnees-510x267.jpg 510w, https://f.hellowork.com/blogdumoderateur/2023/12/tendances-2024-collecte-donnees.jpg 1200w\" decoding=\"async\" height=\"194\" src=\"data:image/svg+xml,%3Csvg%20xmlns='http://www.w3.org/2000/svg'%20viewBox='0%200%20370%20194'%3E%3C/svg%3E\" width=\"370\"/><noscript><img alt=\"4 tendances pour une collecte de données efficace en 2024\" class=\"attachment-serp-card size-serp-card wp-post-image\" decoding=\"async\" height=\"194\" sizes=\"(min-width: 992px) 370px, (min-width: 768px) 276px, (min-width: 400px) 510px, (max-width: 400px) 276px, 276px\" src=\"https://f.hellowork.com/blogdumoderateur/2023/12/tendances-2024-collecte-donnees-370x194.jpg\" srcset=\"https://f.hellowork.com/blogdumoderateur/2023/12/tendances-2024-collecte-donnees-370x194.jpg 370w, https://f.hellowork.com/blogdumoderateur/2023/12/tendances-2024-collecte-donnees-294x154.jpg 294w, https://f.hellowork.com/blogdumoderateur/2023/12/tendances-2024-collecte-donnees-664x347.jpg 664w, https://f.hellowork.com/blogdumoderateur/2023/12/tendances-2024-collecte-donnees-276x144.jpg 276w, https://f.hellowork.com/blogdumoderateur/2023/12/tendances-2024-collecte-donnees-768x402.jpg 768w, https://f.hellowork.com/blogdumoderateur/2023/12/tendances-2024-collecte-donnees-510x267.jpg 510w, https://f.hellowork.com/blogdumoderateur/2023/12/tendances-2024-collecte-donnees.jpg 1200w\" width=\"370\"/></noscript>\n </div><!-- .post-thumbnail -->\n <div class=\"entry-meta p-3_2\">\n <span class=\"favtag\">Tendances</span>\n <span class=\"posted-on t-def ps-3_2\"><time class=\"entry-date published updated\" datetime=\"2023-12-07T10:12:26+01:00\">7 décembre</time></span>\n <header class=\"entry-header pt-2\">\n <h3 class=\"entry-title h3bis\">4 tendances pour une collecte de données efficace en 2024</h3>\n </header><!-- .entry-header -->\n </div>\n </article>,\n <article class=\"post-148202 post type-post status-publish format-standard has-post-thumbnail category-web tag-identite-numerique tag-seo tag-tendances\" id=\"post-148202\">\n <div class=\"post-thumbnail\">\n <img alt=\"4 tendances clés dans les parcours d’achat en 2024\" class=\"attachment-serp-card size-serp-card wp-post-image\" data-lazy-sizes=\"(min-width: 992px) 370px, (min-width: 768px) 276px, (min-width: 400px) 510px, (max-width: 400px) 276px, 276px\" data-lazy-src=\"https://f.hellowork.com/blogdumoderateur/2023/12/tendances-2024-parcours-dachat-370x194.jpg\" data-lazy-srcset=\"https://f.hellowork.com/blogdumoderateur/2023/12/tendances-2024-parcours-dachat-370x194.jpg 370w, https://f.hellowork.com/blogdumoderateur/2023/12/tendances-2024-parcours-dachat-294x154.jpg 294w, https://f.hellowork.com/blogdumoderateur/2023/12/tendances-2024-parcours-dachat-664x347.jpg 664w, https://f.hellowork.com/blogdumoderateur/2023/12/tendances-2024-parcours-dachat-276x144.jpg 276w, https://f.hellowork.com/blogdumoderateur/2023/12/tendances-2024-parcours-dachat-768x402.jpg 768w, https://f.hellowork.com/blogdumoderateur/2023/12/tendances-2024-parcours-dachat-510x267.jpg 510w, https://f.hellowork.com/blogdumoderateur/2023/12/tendances-2024-parcours-dachat.jpg 1200w\" decoding=\"async\" height=\"194\" src=\"data:image/svg+xml,%3Csvg%20xmlns='http://www.w3.org/2000/svg'%20viewBox='0%200%20370%20194'%3E%3C/svg%3E\" width=\"370\"/><noscript><img alt=\"4 tendances clés dans les parcours d’achat en 2024\" class=\"attachment-serp-card size-serp-card wp-post-image\" decoding=\"async\" height=\"194\" sizes=\"(min-width: 992px) 370px, (min-width: 768px) 276px, (min-width: 400px) 510px, (max-width: 400px) 276px, 276px\" src=\"https://f.hellowork.com/blogdumoderateur/2023/12/tendances-2024-parcours-dachat-370x194.jpg\" srcset=\"https://f.hellowork.com/blogdumoderateur/2023/12/tendances-2024-parcours-dachat-370x194.jpg 370w, https://f.hellowork.com/blogdumoderateur/2023/12/tendances-2024-parcours-dachat-294x154.jpg 294w, https://f.hellowork.com/blogdumoderateur/2023/12/tendances-2024-parcours-dachat-664x347.jpg 664w, https://f.hellowork.com/blogdumoderateur/2023/12/tendances-2024-parcours-dachat-276x144.jpg 276w, https://f.hellowork.com/blogdumoderateur/2023/12/tendances-2024-parcours-dachat-768x402.jpg 768w, https://f.hellowork.com/blogdumoderateur/2023/12/tendances-2024-parcours-dachat-510x267.jpg 510w, https://f.hellowork.com/blogdumoderateur/2023/12/tendances-2024-parcours-dachat.jpg 1200w\" width=\"370\"/></noscript>\n </div><!-- .post-thumbnail -->\n <div class=\"entry-meta p-3_2\">\n <span class=\"favtag\">Tendances</span>\n <span class=\"posted-on t-def ps-3_2\"><time class=\"entry-date published updated\" datetime=\"2023-12-06T11:20:28+01:00\">6 décembre</time></span>\n <header class=\"entry-header pt-2\">\n <h3 class=\"entry-title h3bis\">4 tendances clés dans les parcours d’achat en 2024</h3>\n </header><!-- .entry-header -->\n </div>\n </article>,\n <article class=\"post-147298 post type-post status-publish format-standard has-post-thumbnail category-marketing tag-strategie-digitale tag-tendances\" id=\"post-147298\">\n <div class=\"post-thumbnail\">\n <img alt=\"Influence marketing : 5 tendances pour optimiser vos stratégies en 2024\" class=\"attachment-serp-card size-serp-card wp-post-image\" data-lazy-sizes=\"(min-width: 992px) 370px, (min-width: 768px) 276px, (min-width: 400px) 510px, (max-width: 400px) 276px, 276px\" data-lazy-src=\"https://f.hellowork.com/blogdumoderateur/2023/12/tendances-2024-marketing-influence-370x194.jpg\" data-lazy-srcset=\"https://f.hellowork.com/blogdumoderateur/2023/12/tendances-2024-marketing-influence-370x194.jpg 370w, https://f.hellowork.com/blogdumoderateur/2023/12/tendances-2024-marketing-influence-294x154.jpg 294w, https://f.hellowork.com/blogdumoderateur/2023/12/tendances-2024-marketing-influence-664x347.jpg 664w, https://f.hellowork.com/blogdumoderateur/2023/12/tendances-2024-marketing-influence-276x144.jpg 276w, https://f.hellowork.com/blogdumoderateur/2023/12/tendances-2024-marketing-influence-768x402.jpg 768w, https://f.hellowork.com/blogdumoderateur/2023/12/tendances-2024-marketing-influence-510x267.jpg 510w, https://f.hellowork.com/blogdumoderateur/2023/12/tendances-2024-marketing-influence.jpg 1200w\" decoding=\"async\" height=\"194\" src=\"data:image/svg+xml,%3Csvg%20xmlns='http://www.w3.org/2000/svg'%20viewBox='0%200%20370%20194'%3E%3C/svg%3E\" width=\"370\"/><noscript><img alt=\"Influence marketing : 5 tendances pour optimiser vos stratégies en 2024\" class=\"attachment-serp-card size-serp-card wp-post-image\" decoding=\"async\" height=\"194\" sizes=\"(min-width: 992px) 370px, (min-width: 768px) 276px, (min-width: 400px) 510px, (max-width: 400px) 276px, 276px\" src=\"https://f.hellowork.com/blogdumoderateur/2023/12/tendances-2024-marketing-influence-370x194.jpg\" srcset=\"https://f.hellowork.com/blogdumoderateur/2023/12/tendances-2024-marketing-influence-370x194.jpg 370w, https://f.hellowork.com/blogdumoderateur/2023/12/tendances-2024-marketing-influence-294x154.jpg 294w, https://f.hellowork.com/blogdumoderateur/2023/12/tendances-2024-marketing-influence-664x347.jpg 664w, https://f.hellowork.com/blogdumoderateur/2023/12/tendances-2024-marketing-influence-276x144.jpg 276w, https://f.hellowork.com/blogdumoderateur/2023/12/tendances-2024-marketing-influence-768x402.jpg 768w, https://f.hellowork.com/blogdumoderateur/2023/12/tendances-2024-marketing-influence-510x267.jpg 510w, https://f.hellowork.com/blogdumoderateur/2023/12/tendances-2024-marketing-influence.jpg 1200w\" width=\"370\"/></noscript>\n </div><!-- .post-thumbnail -->\n <div class=\"entry-meta p-3_2\">\n <span class=\"favtag\">Tendances</span>\n <span class=\"posted-on t-def ps-3_2\"><time class=\"entry-date published updated\" datetime=\"2023-12-05T10:30:45+01:00\">5 décembre</time></span>\n <header class=\"entry-header pt-2\">\n <h3 class=\"entry-title h3bis\">Influence marketing : 5 tendances pour optimiser vos stratégies en 2024</h3>\n </header><!-- .entry-header -->\n </div>\n </article>,\n <article class=\"post-148899 post type-post status-publish format-standard has-post-thumbnail category-marketing tag-instagram\" id=\"post-148899\">\n <div class=\"post-thumbnail\">\n <img alt=\"Instagram : 10 comptes à suivre quand on travaille dans le marketing\" class=\"attachment-serp-card size-serp-card wp-post-image\" data-lazy-sizes=\"(min-width: 992px) 370px, (min-width: 768px) 276px, (min-width: 400px) 510px, (max-width: 400px) 276px, 276px\" data-lazy-src=\"https://f.hellowork.com/blogdumoderateur/2023/12/10-comptes-instagram-marketing-370x194.jpg\" data-lazy-srcset=\"https://f.hellowork.com/blogdumoderateur/2023/12/10-comptes-instagram-marketing-370x194.jpg 370w, https://f.hellowork.com/blogdumoderateur/2023/12/10-comptes-instagram-marketing-294x154.jpg 294w, https://f.hellowork.com/blogdumoderateur/2023/12/10-comptes-instagram-marketing-664x347.jpg 664w, https://f.hellowork.com/blogdumoderateur/2023/12/10-comptes-instagram-marketing-276x144.jpg 276w, https://f.hellowork.com/blogdumoderateur/2023/12/10-comptes-instagram-marketing-768x402.jpg 768w, https://f.hellowork.com/blogdumoderateur/2023/12/10-comptes-instagram-marketing-510x267.jpg 510w, https://f.hellowork.com/blogdumoderateur/2023/12/10-comptes-instagram-marketing.jpg 1200w\" decoding=\"async\" height=\"194\" src=\"data:image/svg+xml,%3Csvg%20xmlns='http://www.w3.org/2000/svg'%20viewBox='0%200%20370%20194'%3E%3C/svg%3E\" width=\"370\"/><noscript><img alt=\"Instagram : 10 comptes à suivre quand on travaille dans le marketing\" class=\"attachment-serp-card size-serp-card wp-post-image\" decoding=\"async\" height=\"194\" sizes=\"(min-width: 992px) 370px, (min-width: 768px) 276px, (min-width: 400px) 510px, (max-width: 400px) 276px, 276px\" src=\"https://f.hellowork.com/blogdumoderateur/2023/12/10-comptes-instagram-marketing-370x194.jpg\" srcset=\"https://f.hellowork.com/blogdumoderateur/2023/12/10-comptes-instagram-marketing-370x194.jpg 370w, https://f.hellowork.com/blogdumoderateur/2023/12/10-comptes-instagram-marketing-294x154.jpg 294w, https://f.hellowork.com/blogdumoderateur/2023/12/10-comptes-instagram-marketing-664x347.jpg 664w, https://f.hellowork.com/blogdumoderateur/2023/12/10-comptes-instagram-marketing-276x144.jpg 276w, https://f.hellowork.com/blogdumoderateur/2023/12/10-comptes-instagram-marketing-768x402.jpg 768w, https://f.hellowork.com/blogdumoderateur/2023/12/10-comptes-instagram-marketing-510x267.jpg 510w, https://f.hellowork.com/blogdumoderateur/2023/12/10-comptes-instagram-marketing.jpg 1200w\" width=\"370\"/></noscript>\n </div><!-- .post-thumbnail -->\n <div class=\"entry-meta p-3_2\">\n <span class=\"favtag\">Instagram</span>\n <span class=\"posted-on t-def ps-3_2\"><time class=\"entry-date published updated\" datetime=\"2023-12-07T09:23:42+01:00\">7 décembre</time></span>\n <header class=\"entry-header pt-2\">\n <h3 class=\"entry-title h3bis\">Instagram : 10 comptes à suivre quand on travaille dans le marketing</h3>\n </header><!-- .entry-header -->\n </div>\n </article>,\n <article class=\"post-148741 post type-post status-publish format-standard has-post-thumbnail category-social tag-pinterest tag-tendances\" id=\"post-148741\">\n <div class=\"post-thumbnail\">\n <img alt=\"Tendances sur Pinterest : les sujets à suivre en 2024\" class=\"attachment-serp-card size-serp-card wp-post-image\" data-lazy-sizes=\"(min-width: 992px) 370px, (min-width: 768px) 276px, (min-width: 400px) 510px, (max-width: 400px) 276px, 276px\" data-lazy-src=\"https://f.hellowork.com/blogdumoderateur/2023/12/Pinterest-Predicts-2024-370x194.jpg\" data-lazy-srcset=\"https://f.hellowork.com/blogdumoderateur/2023/12/Pinterest-Predicts-2024-370x194.jpg 370w, https://f.hellowork.com/blogdumoderateur/2023/12/Pinterest-Predicts-2024-276x144.jpg 276w, https://f.hellowork.com/blogdumoderateur/2023/12/Pinterest-Predicts-2024-510x267.jpg 510w\" decoding=\"async\" height=\"194\" src=\"data:image/svg+xml,%3Csvg%20xmlns='http://www.w3.org/2000/svg'%20viewBox='0%200%20370%20194'%3E%3C/svg%3E\" width=\"370\"/><noscript><img alt=\"Tendances sur Pinterest : les sujets à suivre en 2024\" class=\"attachment-serp-card size-serp-card wp-post-image\" decoding=\"async\" height=\"194\" sizes=\"(min-width: 992px) 370px, (min-width: 768px) 276px, (min-width: 400px) 510px, (max-width: 400px) 276px, 276px\" src=\"https://f.hellowork.com/blogdumoderateur/2023/12/Pinterest-Predicts-2024-370x194.jpg\" srcset=\"https://f.hellowork.com/blogdumoderateur/2023/12/Pinterest-Predicts-2024-370x194.jpg 370w, https://f.hellowork.com/blogdumoderateur/2023/12/Pinterest-Predicts-2024-276x144.jpg 276w, https://f.hellowork.com/blogdumoderateur/2023/12/Pinterest-Predicts-2024-510x267.jpg 510w\" width=\"370\"/></noscript>\n </div><!-- .post-thumbnail -->\n <div class=\"entry-meta p-3_2\">\n <span class=\"favtag\">Pinterest</span>\n <span class=\"posted-on t-def ps-3_2\"><time class=\"entry-date published updated\" datetime=\"2023-12-06T15:00:53+01:00\">6 décembre</time></span>\n <header class=\"entry-header pt-2\">\n <h3 class=\"entry-title h3bis\">Tendances sur Pinterest : les sujets à suivre en 2024</h3>\n </header><!-- .entry-header -->\n </div>\n </article>,\n <article class=\"post-147264 post type-post status-publish format-standard has-post-thumbnail category-marketing tag-community-management tag-formation tag-ia\" id=\"post-147264\">\n <div class=\"post-thumbnail\">\n <img alt=\"Community manager : une formation certifiante avec un cycle de masterclass sur ChatGPT\" class=\"attachment-serp-card size-serp-card wp-post-image\" data-lazy-sizes=\"(min-width: 992px) 370px, (min-width: 768px) 276px, (min-width: 400px) 510px, (max-width: 400px) 276px, 276px\" data-lazy-src=\"https://f.hellowork.com/blogdumoderateur/2023/11/community-manager-formation-certifiante-apprendre-utiliser-chatgpt-370x194.jpg\" data-lazy-srcset=\"https://f.hellowork.com/blogdumoderateur/2023/11/community-manager-formation-certifiante-apprendre-utiliser-chatgpt-370x194.jpg 370w, https://f.hellowork.com/blogdumoderateur/2023/11/community-manager-formation-certifiante-apprendre-utiliser-chatgpt-276x144.jpg 276w, https://f.hellowork.com/blogdumoderateur/2023/11/community-manager-formation-certifiante-apprendre-utiliser-chatgpt-510x267.jpg 510w\" decoding=\"async\" height=\"194\" src=\"data:image/svg+xml,%3Csvg%20xmlns='http://www.w3.org/2000/svg'%20viewBox='0%200%20370%20194'%3E%3C/svg%3E\" width=\"370\"/><noscript><img alt=\"Community manager : une formation certifiante avec un cycle de masterclass sur ChatGPT\" class=\"attachment-serp-card size-serp-card wp-post-image\" decoding=\"async\" height=\"194\" sizes=\"(min-width: 992px) 370px, (min-width: 768px) 276px, (min-width: 400px) 510px, (max-width: 400px) 276px, 276px\" src=\"https://f.hellowork.com/blogdumoderateur/2023/11/community-manager-formation-certifiante-apprendre-utiliser-chatgpt-370x194.jpg\" srcset=\"https://f.hellowork.com/blogdumoderateur/2023/11/community-manager-formation-certifiante-apprendre-utiliser-chatgpt-370x194.jpg 370w, https://f.hellowork.com/blogdumoderateur/2023/11/community-manager-formation-certifiante-apprendre-utiliser-chatgpt-276x144.jpg 276w, https://f.hellowork.com/blogdumoderateur/2023/11/community-manager-formation-certifiante-apprendre-utiliser-chatgpt-510x267.jpg 510w\" width=\"370\"/></noscript>\n </div><!-- .post-thumbnail -->\n <div class=\"entry-meta p-3_2\">\n <span class=\"favtag\">Formation</span>\n <span class=\"posted-on t-def ps-3_2\"><time class=\"entry-date published updated\" datetime=\"2023-12-06T10:13:54+01:00\">6 décembre</time></span>\n <header class=\"entry-header pt-2\">\n <h3 class=\"entry-title h3bis\">Community manager : une formation certifiante avec un cycle de masterclass sur ChatGPT</h3>\n </header><!-- .entry-header -->\n </div>\n </article>,\n <article class=\"post-148806 post type-post status-publish format-standard has-post-thumbnail category-marketing tag-business tag-strategie-digitale\" id=\"post-148806\">\n <div class=\"post-thumbnail\">\n <img alt=\"7 KPI pour mesurer l’efficacité de son service client : NPS, CES, CSAT…\" class=\"attachment-serp-card size-serp-card wp-post-image\" data-lazy-sizes=\"(min-width: 992px) 370px, (min-width: 768px) 276px, (min-width: 400px) 510px, (max-width: 400px) 276px, 276px\" data-lazy-src=\"https://f.hellowork.com/blogdumoderateur/2023/12/service-client-kpi-370x194.jpg\" data-lazy-srcset=\"https://f.hellowork.com/blogdumoderateur/2023/12/service-client-kpi-370x194.jpg 370w, https://f.hellowork.com/blogdumoderateur/2023/12/service-client-kpi-276x144.jpg 276w, https://f.hellowork.com/blogdumoderateur/2023/12/service-client-kpi-510x267.jpg 510w\" decoding=\"async\" height=\"194\" src=\"data:image/svg+xml,%3Csvg%20xmlns='http://www.w3.org/2000/svg'%20viewBox='0%200%20370%20194'%3E%3C/svg%3E\" width=\"370\"/><noscript><img alt=\"7 KPI pour mesurer l’efficacité de son service client : NPS, CES, CSAT…\" class=\"attachment-serp-card size-serp-card wp-post-image\" decoding=\"async\" height=\"194\" sizes=\"(min-width: 992px) 370px, (min-width: 768px) 276px, (min-width: 400px) 510px, (max-width: 400px) 276px, 276px\" src=\"https://f.hellowork.com/blogdumoderateur/2023/12/service-client-kpi-370x194.jpg\" srcset=\"https://f.hellowork.com/blogdumoderateur/2023/12/service-client-kpi-370x194.jpg 370w, https://f.hellowork.com/blogdumoderateur/2023/12/service-client-kpi-276x144.jpg 276w, https://f.hellowork.com/blogdumoderateur/2023/12/service-client-kpi-510x267.jpg 510w\" width=\"370\"/></noscript>\n </div><!-- .post-thumbnail -->\n <div class=\"entry-meta p-3_2\">\n <span class=\"favtag\">Business</span>\n <span class=\"posted-on t-def ps-3_2\"><time class=\"entry-date published updated\" datetime=\"2023-12-06T09:53:42+01:00\">6 décembre</time></span>\n <header class=\"entry-header pt-2\">\n <h3 class=\"entry-title h3bis\">7 KPI pour mesurer l’efficacité de son service client : NPS, CES, CSAT…</h3>\n </header><!-- .entry-header -->\n </div>\n </article>,\n <article class=\"post-147900 post type-post status-publish format-standard has-post-thumbnail category-social tag-culture-web\" id=\"post-147900\">\n <div class=\"post-thumbnail\">\n <img alt=\"Super applications : X peut-il suivre les traces de WeChat ?\" class=\"attachment-serp-card size-serp-card wp-post-image\" data-lazy-sizes=\"(min-width: 992px) 370px, (min-width: 768px) 276px, (min-width: 400px) 510px, (max-width: 400px) 276px, 276px\" data-lazy-src=\"https://f.hellowork.com/blogdumoderateur/2023/11/Super-Applications-370x194.jpg\" data-lazy-srcset=\"https://f.hellowork.com/blogdumoderateur/2023/11/Super-Applications-370x194.jpg 370w, https://f.hellowork.com/blogdumoderateur/2023/11/Super-Applications-276x144.jpg 276w, https://f.hellowork.com/blogdumoderateur/2023/11/Super-Applications-510x267.jpg 510w\" decoding=\"async\" height=\"194\" src=\"data:image/svg+xml,%3Csvg%20xmlns='http://www.w3.org/2000/svg'%20viewBox='0%200%20370%20194'%3E%3C/svg%3E\" width=\"370\"/><noscript><img alt=\"Super applications : X peut-il suivre les traces de WeChat ?\" class=\"attachment-serp-card size-serp-card wp-post-image\" decoding=\"async\" height=\"194\" sizes=\"(min-width: 992px) 370px, (min-width: 768px) 276px, (min-width: 400px) 510px, (max-width: 400px) 276px, 276px\" src=\"https://f.hellowork.com/blogdumoderateur/2023/11/Super-Applications-370x194.jpg\" srcset=\"https://f.hellowork.com/blogdumoderateur/2023/11/Super-Applications-370x194.jpg 370w, https://f.hellowork.com/blogdumoderateur/2023/11/Super-Applications-276x144.jpg 276w, https://f.hellowork.com/blogdumoderateur/2023/11/Super-Applications-510x267.jpg 510w\" width=\"370\"/></noscript>\n </div><!-- .post-thumbnail -->\n <div class=\"entry-meta p-3_2\">\n <span class=\"favtag\">Culture web</span>\n <span class=\"posted-on t-def ps-3_2\"><time class=\"entry-date published updated\" datetime=\"2023-12-04T09:32:39+01:00\">4 décembre</time></span>\n <header class=\"entry-header pt-2\">\n <h3 class=\"entry-title h3bis\">Super applications : X peut-il suivre les traces de WeChat ?</h3>\n </header><!-- .entry-header -->\n </div>\n </article>,\n <article class=\"post-148531 post type-post status-publish format-standard has-post-thumbnail category-tech tag-ia\" id=\"post-148531\">\n <div class=\"post-thumbnail\">\n <img alt=\"ChatGPT : 5 domaines bouleversés par l’IA générative depuis 1 an\" class=\"attachment-serp-card size-serp-card wp-post-image\" data-lazy-sizes=\"(min-width: 992px) 370px, (min-width: 768px) 276px, (min-width: 400px) 510px, (max-width: 400px) 276px, 276px\" data-lazy-src=\"https://f.hellowork.com/blogdumoderateur/2023/12/chatgpt-1-an-370x194.jpg\" data-lazy-srcset=\"https://f.hellowork.com/blogdumoderateur/2023/12/chatgpt-1-an-370x194.jpg 370w, https://f.hellowork.com/blogdumoderateur/2023/12/chatgpt-1-an-276x144.jpg 276w, https://f.hellowork.com/blogdumoderateur/2023/12/chatgpt-1-an-510x267.jpg 510w\" decoding=\"async\" height=\"194\" src=\"data:image/svg+xml,%3Csvg%20xmlns='http://www.w3.org/2000/svg'%20viewBox='0%200%20370%20194'%3E%3C/svg%3E\" width=\"370\"/><noscript><img alt=\"ChatGPT : 5 domaines bouleversés par l’IA générative depuis 1 an\" class=\"attachment-serp-card size-serp-card wp-post-image\" decoding=\"async\" height=\"194\" sizes=\"(min-width: 992px) 370px, (min-width: 768px) 276px, (min-width: 400px) 510px, (max-width: 400px) 276px, 276px\" src=\"https://f.hellowork.com/blogdumoderateur/2023/12/chatgpt-1-an-370x194.jpg\" srcset=\"https://f.hellowork.com/blogdumoderateur/2023/12/chatgpt-1-an-370x194.jpg 370w, https://f.hellowork.com/blogdumoderateur/2023/12/chatgpt-1-an-276x144.jpg 276w, https://f.hellowork.com/blogdumoderateur/2023/12/chatgpt-1-an-510x267.jpg 510w\" width=\"370\"/></noscript>\n </div><!-- .post-thumbnail -->\n <div class=\"entry-meta p-3_2\">\n <span class=\"favtag\">IA</span>\n <span class=\"posted-on t-def ps-3_2\"><time class=\"entry-date published updated\" datetime=\"2023-12-01T11:58:06+01:00\">1 décembre</time></span>\n <header class=\"entry-header pt-2\">\n <h3 class=\"entry-title h3bis\">ChatGPT : 5 domaines bouleversés par l’IA générative depuis 1 an</h3>\n </header><!-- .entry-header -->\n </div>\n </article>,\n <article class=\"post-146551 post type-post status-publish format-standard has-post-thumbnail category-tech tag-ia tag-recrutement tag-strategie-digitale tag-transformation-digitale\" id=\"post-146551\">\n <div class=\"entry-meta p-3_2\">\n <time class=\"entry-date published updated\" datetime=\"2023-11-28T09:26:35+01:00\">28 novembre</time>\n <header class=\"entry-header pt-2\">\n <h3 class=\"entry-title h3bis\">Optimiser l’expérience utilisateur grâce à la data, au digital et à l’IA : la méthode de Rexel</h3>\n </header><!-- .entry-header -->\n </div>\n </article>,\n <article class=\"post-148070 post type-post status-publish format-standard has-post-thumbnail category-web tag-cybersecurite tag-design tag-developpement tag-evenements-web tag-ia tag-transformation-digitale\" id=\"post-148070\">\n <div class=\"entry-meta p-3_2\">\n <time class=\"entry-date published updated\" datetime=\"2023-11-28T08:30:54+01:00\">28 novembre</time>\n <header class=\"entry-header pt-2\">\n <h3 class=\"entry-title h3bis\">8 événements web à ne pas manquer en décembre 2023</h3>\n </header><!-- .entry-header -->\n </div>\n </article>,\n <article class=\"post-130458 post type-post status-publish format-standard has-post-thumbnail category-tech tag-ia\" id=\"post-130458\">\n <div class=\"entry-meta p-3_2\">\n <time class=\"entry-date published updated\" datetime=\"2023-04-07T10:51:21+02:00\">7 avril</time>\n <header class=\"entry-header pt-2\">\n <h3 class=\"entry-title h3bis\">Comment utiliser Midjourney : le guide pour générer de belles images</h3>\n </header><!-- .entry-header -->\n </div>\n </article>,\n <article class=\"post-128936 post type-post status-publish format-standard has-post-thumbnail category-tech tag-ia\" id=\"post-128936\">\n <div class=\"entry-meta p-3_2\">\n <time class=\"entry-date published updated\" datetime=\"2023-03-21T10:30:09+01:00\">21 mars</time>\n <header class=\"entry-header pt-2\">\n <h3 class=\"entry-title h3bis\">Bing GPT-4 : 10 questions à poser au chatbot de Microsoft</h3>\n </header><!-- .entry-header -->\n </div>\n </article>,\n <article class=\"post-146264 post type-post status-publish format-standard has-post-thumbnail category-marketing tag-community-management tag-strategie-digitale\" id=\"post-146264\">\n <div class=\"entry-meta p-3_2\">\n <time class=\"entry-date published updated\" datetime=\"2023-11-20T08:00:00+01:00\">20 novembre</time>\n <header class=\"entry-header pt-2\">\n <h3 class=\"entry-title h3bis\">Calendrier marketing 2024 : la liste de tous les événements de l’année</h3>\n </header><!-- .entry-header -->\n </div>\n </article>,\n <article class=\"post-145770 post type-post status-publish format-standard has-post-thumbnail category-web tag-business tag-strategie-digitale\" id=\"post-145770\">\n <div class=\"entry-meta p-3_2\">\n <time class=\"entry-date published updated\" datetime=\"2023-10-26T10:07:32+02:00\">26 octobre</time>\n <header class=\"entry-header pt-2\">\n <h3 class=\"entry-title h3bis\">Crowdfunding : 5 étapes pour créer une campagne de financement participatif</h3>\n </header><!-- .entry-header -->\n </div>\n </article>,\n <article class=\"post-130908 post type-post status-publish format-standard has-post-thumbnail category-social tag-culture-web tag-instagram tag-strategie-digitale\" id=\"post-130908\">\n <div class=\"entry-meta p-3_2\">\n <time class=\"entry-date published updated\" datetime=\"2023-04-13T09:13:10+02:00\">13 avril</time>\n <header class=\"entry-header pt-2\">\n <h3 class=\"entry-title h3bis\">Instagram : 10 comptes à suivre quand on travaille dans le digital</h3>\n </header><!-- .entry-header -->\n </div>\n </article>,\n <article class=\"post-123120 post type-post status-publish format-standard has-post-thumbnail category-web tag-culture-web tag-medias tag-strategie-digitale\" id=\"post-123120\">\n <div class=\"entry-meta p-3_2\">\n <time class=\"entry-date published updated\" datetime=\"2023-01-02T11:54:11+01:00\">2 janvier</time>\n <header class=\"entry-header pt-2\">\n <h3 class=\"entry-title h3bis\">10 newsletters à suivre pour les professionnels du digital</h3>\n </header><!-- .entry-header -->\n </div>\n </article>,\n <article class=\"post-147598 post type-post status-publish format-standard has-post-thumbnail category-tech tag-cybersecurite tag-formation\" id=\"post-147598\">\n <div class=\"entry-meta p-3_2\">\n <time class=\"entry-date published updated\" datetime=\"2023-11-21T15:37:12+01:00\">21 novembre</time>\n <header class=\"entry-header pt-2\">\n <h3 class=\"entry-title h3bis\">Attirer, former, diversifier : les enjeux majeurs de la cybersécurité en France</h3>\n </header><!-- .entry-header -->\n </div>\n </article>,\n <article class=\"post-146151 post type-post status-publish format-standard has-post-thumbnail category-tech tag-cybersecurite tag-developpement tag-formation tag-travailler-digital\" id=\"post-146151\">\n <div class=\"entry-meta p-3_2\">\n <time class=\"entry-date published updated\" datetime=\"2023-11-06T09:42:11+01:00\">6 novembre</time>\n <header class=\"entry-header pt-2\">\n <h3 class=\"entry-title h3bis\">5 conseils pour faire financer votre formation dans les métiers de l’IT</h3>\n </header><!-- .entry-header -->\n </div>\n </article>,\n <article class=\"post-131591 post type-post status-publish format-standard has-post-thumbnail category-tech tag-cybersecurite tag-etude\" id=\"post-131591\">\n <div class=\"entry-meta p-3_2\">\n <time class=\"entry-date published updated\" datetime=\"2023-04-21T11:30:53+02:00\">21 avril</time>\n <header class=\"entry-header pt-2\">\n <h3 class=\"entry-title h3bis\">Étude : combien de temps pour pirater votre mot de passe en 2023 ?</h3>\n </header><!-- .entry-header -->\n </div>\n </article>,\n <article class=\"post-129411 post type-post status-publish format-standard has-post-thumbnail category-tech tag-cybersecurite tag-donnees-personnelles tag-etude\" id=\"post-129411\">\n <div class=\"entry-meta p-3_2\">\n <time class=\"entry-date published updated\" datetime=\"2023-03-24T11:40:46+01:00\">24 mars</time>\n <header class=\"entry-header pt-2\">\n <h3 class=\"entry-title h3bis\">État des lieux des cybermenaces en France : phishing, piratage, violation de données…</h3>\n </header><!-- .entry-header -->\n </div>\n </article>,\n <article class=\"post-147373 post type-post status-publish format-standard has-post-thumbnail category-web tag-culture-web\" id=\"post-147373\">\n <div class=\"entry-meta p-3_2\">\n <time class=\"entry-date published updated\" datetime=\"2023-11-17T11:22:50+01:00\">17 novembre</time>\n <header class=\"entry-header pt-2\">\n <h3 class=\"entry-title h3bis\">Jeu sur l’éco-conception web : connaissez-vous les bonnes pratiques ?</h3>\n </header><!-- .entry-header -->\n </div>\n </article>,\n <article class=\"post-144605 post type-post status-publish format-standard has-post-thumbnail category-web tag-culture-web tag-interviews\" id=\"post-144605\">\n <div class=\"entry-meta p-3_2\">\n <time class=\"entry-date published updated\" datetime=\"2023-10-31T09:13:47+01:00\">31 octobre</time>\n <header class=\"entry-header pt-2\">\n <h3 class=\"entry-title h3bis\">Archivage du web : comment la BnF préserve la mémoire de l’Internet français</h3>\n </header><!-- .entry-header -->\n </div>\n </article>,\n <article class=\"post-130908 post type-post status-publish format-standard has-post-thumbnail category-social tag-culture-web tag-instagram tag-strategie-digitale\" id=\"post-130908\">\n <div class=\"entry-meta p-3_2\">\n <time class=\"entry-date published updated\" datetime=\"2023-04-13T09:13:10+02:00\">13 avril</time>\n <header class=\"entry-header pt-2\">\n <h3 class=\"entry-title h3bis\">Instagram : 10 comptes à suivre quand on travaille dans le digital</h3>\n </header><!-- .entry-header -->\n </div>\n </article>,\n <article class=\"post-127662 post type-post status-publish format-standard has-post-thumbnail category-tech tag-culture-web\" id=\"post-127662\">\n <div class=\"entry-meta p-3_2\">\n <time class=\"entry-date published updated\" datetime=\"2023-03-09T10:12:08+01:00\">9 mars</time>\n <header class=\"entry-header pt-2\">\n <h3 class=\"entry-title h3bis\">Lexique tech : 10 mots à connaître en 2023</h3>\n </header><!-- .entry-header -->\n </div>\n </article>,\n <article class=\"post-147509 post type-post status-publish format-standard has-post-thumbnail category-marketing tag-business tag-e-commerce tag-productivite\" id=\"post-147509\">\n <div class=\"entry-meta p-3_2\">\n <time class=\"entry-date published updated\" datetime=\"2023-11-21T09:45:47+01:00\">21 novembre</time>\n <header class=\"entry-header pt-2\">\n <h3 class=\"entry-title h3bis\">Comment facturer à l’international : TVA, mentions légales, tout savoir</h3>\n </header><!-- .entry-header -->\n </div>\n </article>,\n <article class=\"post-146168 post type-post status-publish format-standard has-post-thumbnail category-web tag-business\" id=\"post-146168\">\n <div class=\"entry-meta p-3_2\">\n <time class=\"entry-date published updated\" datetime=\"2023-11-02T10:26:41+01:00\">2 novembre</time>\n <header class=\"entry-header pt-2\">\n <h3 class=\"entry-title h3bis\">Compte bancaire professionnel : quelles obligations selon votre statut juridique ?</h3>\n </header><!-- .entry-header -->\n </div>\n </article>,\n <article class=\"post-127511 post type-post status-publish format-standard has-post-thumbnail category-web tag-business\" id=\"post-127511\">\n <div class=\"entry-meta p-3_2\">\n <time class=\"entry-date published updated\" datetime=\"2023-03-07T09:46:41+01:00\">7 mars</time>\n <header class=\"entry-header pt-2\">\n <h3 class=\"entry-title h3bis\">Micro-entreprise : les règles à respecter et conseils pour la facturation</h3>\n </header><!-- .entry-header -->\n </div>\n </article>,\n <article class=\"post-127049 post type-post status-publish format-standard has-post-thumbnail category-web tag-business\" id=\"post-127049\">\n <div class=\"entry-meta p-3_2\">\n <time class=\"entry-date published updated\" datetime=\"2023-02-20T11:13:38+01:00\">20 février</time>\n <header class=\"entry-header pt-2\">\n <h3 class=\"entry-title h3bis\">French Tech : découvrez les 120 startups les plus performantes de 2023</h3>\n </header><!-- .entry-header -->\n </div>\n </article>,\n <article class=\"post-145923 post type-post status-publish format-standard has-post-thumbnail category-web tag-cybersecurite tag-developpement tag-evenements-web tag-ia tag-tendances tag-tiktok\" id=\"post-145923\">\n <div class=\"entry-meta p-3_2\">\n <time class=\"entry-date published updated\" datetime=\"2023-10-27T08:30:20+02:00\">27 octobre</time>\n <header class=\"entry-header pt-2\">\n <h3 class=\"entry-title h3bis\">10 événements web à ne pas manquer en novembre 2023</h3>\n </header><!-- .entry-header -->\n </div>\n </article>,\n <article class=\"post-140333 post type-post status-publish format-standard has-post-thumbnail category-tech tag-developpement tag-recrutement tag-tendances\" id=\"post-140333\">\n <div class=\"entry-meta p-3_2\">\n <time class=\"entry-date published updated\" datetime=\"2023-09-19T09:31:40+02:00\">19 septembre</time>\n <header class=\"entry-header pt-2\">\n <h3 class=\"entry-title h3bis\">Conserto lance GreenTrackr, un outil pour mesurer l’impact environnemental des sites web</h3>\n </header><!-- .entry-header -->\n </div>\n </article>,\n <article class=\"post-126452 post type-post status-publish format-standard has-post-thumbnail category-marketing tag-livres-blancs tag-tendances\" id=\"post-126452\">\n <div class=\"entry-meta p-3_2\">\n <time class=\"entry-date published updated\" datetime=\"2023-02-09T10:17:19+01:00\">9 février</time>\n <header class=\"entry-header pt-2\">\n <h3 class=\"entry-title h3bis\">Cahier de tendances du digital : téléchargez notre guide 2023</h3>\n </header><!-- .entry-header -->\n </div>\n </article>,\n <article class=\"post-125804 post type-post status-publish format-standard has-post-thumbnail category-tech tag-tendances\" id=\"post-125804\">\n <div class=\"entry-meta p-3_2\">\n <time class=\"entry-date published updated\" datetime=\"2023-01-30T12:43:53+01:00\">30 janvier</time>\n <header class=\"entry-header pt-2\">\n <h3 class=\"entry-title h3bis\">Les 10 tendances tech à suivre en 2023</h3>\n </header><!-- .entry-header -->\n </div>\n </article>]"
     },
     "execution_count": 141,
     "metadata": {},
     "output_type": "execute_result"
    }
   ],
   "source": [
    "soup.find_all('article')"
   ]
  },
  {
   "cell_type": "markdown",
   "metadata": {
    "id": "qwrxg__CVooq"
   },
   "source": [
    "## 2.9 Récupérez le `nom` du premier article."
   ]
  },
  {
   "cell_type": "code",
   "execution_count": 142,
   "metadata": {
    "id": "IZbpC6lVVooq",
    "ExecuteTime": {
     "end_time": "2023-12-11T10:46:15.082676900Z",
     "start_time": "2023-12-11T10:46:14.981677800Z"
    }
   },
   "outputs": [
    {
     "data": {
      "text/plain": "'Design\\xa0: Adobe dévoile ses prédictions créatives pour 2024'"
     },
     "execution_count": 142,
     "metadata": {},
     "output_type": "execute_result"
    }
   ],
   "source": [
    "soup.find_all('article')[0].find('h3').text"
   ]
  },
  {
   "cell_type": "markdown",
   "metadata": {
    "id": "Vdb9A_N6Vooq"
   },
   "source": [
    "##  2.10 Récupérez le `lien de l'image` du premier article."
   ]
  },
  {
   "cell_type": "code",
   "execution_count": 143,
   "metadata": {
    "id": "JCm-88X-Vooq",
    "ExecuteTime": {
     "end_time": "2023-12-11T10:46:15.100676800Z",
     "start_time": "2023-12-11T10:46:15.011679400Z"
    }
   },
   "outputs": [
    {
     "data": {
      "text/plain": "'https://f.hellowork.com/blogdumoderateur/2023/12/Trends-Adobe-2023-276x144.jpg'"
     },
     "execution_count": 143,
     "metadata": {},
     "output_type": "execute_result"
    }
   ],
   "source": [
    "soup.find_all('article')[0].find('img').get('data-lazy-src')"
   ]
  },
  {
   "cell_type": "markdown",
   "metadata": {
    "id": "FeHvWfotVooq"
   },
   "source": [
    "## 2.11 Récupérez le `lien` du premier article."
   ]
  },
  {
   "cell_type": "code",
   "execution_count": 144,
   "metadata": {
    "id": "zUGNPiHtVoor",
    "ExecuteTime": {
     "end_time": "2023-12-11T10:46:15.275675300Z",
     "start_time": "2023-12-11T10:46:15.027696800Z"
    }
   },
   "outputs": [
    {
     "data": {
      "text/plain": "'https://www.blogdumoderateur.com/design-adobe-predictions-creatives-2024/'"
     },
     "execution_count": 144,
     "metadata": {},
     "output_type": "execute_result"
    }
   ],
   "source": [
    "soup.find_all('article')[0].find('a').get('href')"
   ]
  },
  {
   "cell_type": "markdown",
   "metadata": {
    "id": "pzKPGnlUVoor"
   },
   "source": [
    "## 2.12 Récupérez la `catégorie` du premier article."
   ]
  },
  {
   "cell_type": "code",
   "execution_count": 145,
   "metadata": {
    "id": "2DOBOvIWVoor",
    "ExecuteTime": {
     "end_time": "2023-12-11T10:46:15.276675100Z",
     "start_time": "2023-12-11T10:46:15.040679400Z"
    }
   },
   "outputs": [
    {
     "data": {
      "text/plain": "'Adobe'"
     },
     "execution_count": 145,
     "metadata": {},
     "output_type": "execute_result"
    }
   ],
   "source": [
    "soup.find_all('article')[0].find('span').text"
   ]
  },
  {
   "cell_type": "markdown",
   "metadata": {
    "id": "NFFmWxztVoor"
   },
   "source": [
    "## 2.13 Récupérez la `date de publication` du premier article."
   ]
  },
  {
   "cell_type": "code",
   "execution_count": 146,
   "metadata": {
    "id": "LIYUA14pVoor",
    "ExecuteTime": {
     "end_time": "2023-12-11T10:46:15.278675400Z",
     "start_time": "2023-12-11T10:46:15.056711Z"
    }
   },
   "outputs": [
    {
     "data": {
      "text/plain": "'11 décembre'"
     },
     "execution_count": 146,
     "metadata": {},
     "output_type": "execute_result"
    }
   ],
   "source": [
    "soup.find_all('article')[0].find('time').text"
   ]
  },
  {
   "cell_type": "markdown",
   "metadata": {
    "id": "SsOqtQLQVoor"
   },
   "source": [
    "# Créez une fonction `scraping_bdm` qui collecte l'ensemble des données des articles présent sur la page d'acceuil et qui renvoi un fichier au format `json`."
   ]
  },
  {
   "cell_type": "code",
   "execution_count": 147,
   "metadata": {
    "id": "HeUUiUXuVoor",
    "ExecuteTime": {
     "end_time": "2023-12-11T10:46:15.366678300Z",
     "start_time": "2023-12-11T10:46:15.073675300Z"
    }
   },
   "outputs": [],
   "source": [
    "# Return a dict that has the article id as key and the article data such as img and category as value"
   ]
  },
  {
   "cell_type": "code",
   "execution_count": 148,
   "metadata": {
    "id": "BPaZZyrRVoos",
    "ExecuteTime": {
     "end_time": "2023-12-11T10:46:15.382432Z",
     "start_time": "2023-12-11T10:46:15.095706100Z"
    }
   },
   "outputs": [],
   "source": [
    "def scraping_bdm_comprehension(soup):\n",
    "  return {\n",
    "    article.get('id'): {\n",
    "      'name': article.find('h3').text if article.find('h3') else 'No name available',\n",
    "      'img': article.find('img').get('data-lazy-src') if article.find('img') else 'No image available',\n",
    "      'category': article.find('span').text if article.find('span') else 'No category available',\n",
    "      'date': article.find('time').text if article.find('time') else 'No date available',\n",
    "    } for article in soup.find_all('article')\n",
    "  }"
   ]
  },
  {
   "cell_type": "code",
   "execution_count": 149,
   "metadata": {
    "id": "-EJnTUyqVoos",
    "ExecuteTime": {
     "end_time": "2023-12-11T10:46:15.474430900Z",
     "start_time": "2023-12-11T10:46:15.372836700Z"
    }
   },
   "outputs": [
    {
     "data": {
      "text/plain": "{'post-149273': {'name': 'Design\\xa0: Adobe dévoile ses prédictions créatives pour 2024',\n  'img': 'https://f.hellowork.com/blogdumoderateur/2023/12/Trends-Adobe-2023-276x144.jpg',\n  'category': 'Adobe',\n  'date': '11 décembre'},\n 'post-149297': {'name': 'Les 20 langages informatiques les plus populaires en décembre 2023',\n  'img': 'https://f.hellowork.com/blogdumoderateur/2023/12/classement-langages-informatiques-tiobe-decembre-2023-276x144.jpg',\n  'category': 'Développement',\n  'date': '11 décembre'},\n 'post-149278': {'name': 'AI Act\\xa0: que contient le texte européen pour réguler les usages de l’IA\\xa0?',\n  'img': 'https://f.hellowork.com/blogdumoderateur/2023/12/AI-act-276x144.jpg',\n  'category': 'IA',\n  'date': '11 décembre'},\n 'post-148472': {'name': '6 tendances social media pour gérer vos réseaux sociaux en 2024',\n  'img': 'https://f.hellowork.com/blogdumoderateur/2023/12/tendances-social-media-2024-370x194.jpg',\n  'category': 'Tendances',\n  'date': '11 décembre'},\n 'post-149244': {'name': 'Google révèle les recherches les plus populaires de l’année 2023 en France',\n  'img': 'https://f.hellowork.com/blogdumoderateur/2023/12/AdobeStock_467036300_Editorial_Use_Only-276x144.jpeg',\n  'category': 'Google',\n  'date': '11 décembre'},\n 'post-147922': {'name': 'Du Virtual Boy au Nokia N-Gage, retour sur les plus grands échecs de la tech',\n  'img': 'https://f.hellowork.com/blogdumoderateur/2023/11/Google_Glass_photo-276x144.jpg',\n  'category': 'Culture web',\n  'date': '9 décembre'},\n 'post-149188': {'name': 'YouTube dévoile le top 10 des vidéos les plus vues en France en 2023',\n  'img': 'https://f.hellowork.com/blogdumoderateur/2023/12/Classement-videos-YouTube-2023-276x144.jpg',\n  'category': 'YouTube',\n  'date': '8 décembre'},\n 'post-149185': {'name': 'WhatsApp\\xa0: comment envoyer des messages vocaux éphémères',\n  'img': 'https://f.hellowork.com/blogdumoderateur/2023/12/whatsapp-messages-vocaux-lecture-unique-276x144.jpg',\n  'category': 'WhatsApp',\n  'date': '8 décembre'},\n 'post-147936': {'name': '4 tendances pour générer de l’engagement grâce à la vidéo en 2024',\n  'img': 'https://f.hellowork.com/blogdumoderateur/2023/12/tendances-video-2024-370x194.jpg',\n  'category': 'Tendances',\n  'date': '8 décembre'},\n 'post-149124': {'name': 'Comment l’IA peut favoriser l’inclusion des personnes en situation de handicap',\n  'img': 'https://f.hellowork.com/blogdumoderateur/2023/12/TechRock-Summit-Emmanuelle-Aboaf-276x144.jpg',\n  'category': 'IA',\n  'date': '7 décembre'},\n 'post-149068': {'name': 'Mistral AI, la startup française qui veut rivaliser avec OpenAI dès 2024',\n  'img': 'https://f.hellowork.com/blogdumoderateur/2023/12/mistral-ai-startup-276x144.jpg',\n  'category': 'IA',\n  'date': '7 décembre'},\n 'post-149100': {'name': 'IA faible ou IA forte\\xa0: quelle est la différence\\xa0?',\n  'img': 'https://f.hellowork.com/blogdumoderateur/2023/12/imagine-summit-ia-faible-ia-forte-276x144.jpg',\n  'category': 'IA',\n  'date': '7 décembre'},\n 'post-148560': {'name': 'Product owner\\xa0: un métier passionnant pour offrir la meilleure expérience aux utilisateurs',\n  'img': 'https://f.hellowork.com/blogdumoderateur/2023/12/product-owner-metier-passionnant-offrir-meilleure-experience-utilisateurs-276x144.jpg',\n  'category': 'Formation',\n  'date': '7 décembre'},\n 'post-149063': {'name': 'Meta dévoile un nouveau générateur d’images par IA\\xa0: ce qu’il faut savoir',\n  'img': 'https://f.hellowork.com/blogdumoderateur/2023/12/imagine-with-meta-276x144.jpg',\n  'category': 'IA',\n  'date': '7 décembre'},\n 'post-147799': {'name': '4 tendances pour une collecte de données efficace en 2024',\n  'img': 'https://f.hellowork.com/blogdumoderateur/2023/12/tendances-2024-collecte-donnees-370x194.jpg',\n  'category': 'Tendances',\n  'date': '7 décembre'},\n 'post-148202': {'name': '4 tendances clés dans les parcours d’achat en 2024',\n  'img': 'https://f.hellowork.com/blogdumoderateur/2023/12/tendances-2024-parcours-dachat-370x194.jpg',\n  'category': 'Tendances',\n  'date': '6 décembre'},\n 'post-147298': {'name': 'Influence marketing\\xa0: 5 tendances pour optimiser vos stratégies en 2024',\n  'img': 'https://f.hellowork.com/blogdumoderateur/2023/12/tendances-2024-marketing-influence-370x194.jpg',\n  'category': 'Tendances',\n  'date': '5 décembre'},\n 'post-148899': {'name': 'Instagram\\xa0: 10 comptes à suivre quand on travaille dans le marketing',\n  'img': 'https://f.hellowork.com/blogdumoderateur/2023/12/10-comptes-instagram-marketing-370x194.jpg',\n  'category': 'Instagram',\n  'date': '7 décembre'},\n 'post-148741': {'name': 'Tendances sur Pinterest\\xa0: les sujets à suivre en 2024',\n  'img': 'https://f.hellowork.com/blogdumoderateur/2023/12/Pinterest-Predicts-2024-370x194.jpg',\n  'category': 'Pinterest',\n  'date': '6 décembre'},\n 'post-147264': {'name': 'Community manager\\xa0: une formation certifiante avec un cycle de masterclass sur ChatGPT',\n  'img': 'https://f.hellowork.com/blogdumoderateur/2023/11/community-manager-formation-certifiante-apprendre-utiliser-chatgpt-370x194.jpg',\n  'category': 'Formation',\n  'date': '6 décembre'},\n 'post-148806': {'name': '7 KPI pour mesurer l’efficacité de son service client\\xa0: NPS, CES, CSAT…',\n  'img': 'https://f.hellowork.com/blogdumoderateur/2023/12/service-client-kpi-370x194.jpg',\n  'category': 'Business',\n  'date': '6 décembre'},\n 'post-147900': {'name': 'Super applications\\xa0: X peut-il suivre les traces de WeChat\\xa0?',\n  'img': 'https://f.hellowork.com/blogdumoderateur/2023/11/Super-Applications-370x194.jpg',\n  'category': 'Culture web',\n  'date': '4 décembre'},\n 'post-148531': {'name': 'ChatGPT\\xa0: 5 domaines bouleversés par l’IA générative depuis 1 an',\n  'img': 'https://f.hellowork.com/blogdumoderateur/2023/12/chatgpt-1-an-370x194.jpg',\n  'category': 'IA',\n  'date': '1 décembre'},\n 'post-146551': {'name': 'Optimiser l’expérience utilisateur grâce à la data, au digital et à l’IA\\xa0: la méthode de Rexel',\n  'img': 'No image available',\n  'category': 'No category available',\n  'date': '28 novembre'},\n 'post-148070': {'name': '8 événements web à ne pas manquer en décembre 2023',\n  'img': 'No image available',\n  'category': 'No category available',\n  'date': '28 novembre'},\n 'post-130458': {'name': 'Comment utiliser Midjourney\\xa0: le guide pour générer de belles images',\n  'img': 'No image available',\n  'category': 'No category available',\n  'date': '7 avril'},\n 'post-128936': {'name': 'Bing GPT-4\\xa0: 10 questions à poser au chatbot de Microsoft',\n  'img': 'No image available',\n  'category': 'No category available',\n  'date': '21 mars'},\n 'post-146264': {'name': 'Calendrier marketing 2024\\xa0: la liste de tous les événements de l’année',\n  'img': 'No image available',\n  'category': 'No category available',\n  'date': '20 novembre'},\n 'post-145770': {'name': 'Crowdfunding\\xa0: 5 étapes pour créer une campagne de financement participatif',\n  'img': 'No image available',\n  'category': 'No category available',\n  'date': '26 octobre'},\n 'post-130908': {'name': 'Instagram\\xa0: 10 comptes à suivre quand on travaille dans le digital',\n  'img': 'No image available',\n  'category': 'No category available',\n  'date': '13 avril'},\n 'post-123120': {'name': '10 newsletters à suivre pour les professionnels du digital',\n  'img': 'No image available',\n  'category': 'No category available',\n  'date': '2 janvier'},\n 'post-147598': {'name': 'Attirer, former, diversifier\\xa0: les enjeux majeurs de la cybersécurité en France',\n  'img': 'No image available',\n  'category': 'No category available',\n  'date': '21 novembre'},\n 'post-146151': {'name': '5 conseils pour faire financer votre formation dans les métiers de l’IT',\n  'img': 'No image available',\n  'category': 'No category available',\n  'date': '6 novembre'},\n 'post-131591': {'name': 'Étude\\xa0: combien de temps pour pirater votre mot de passe en 2023\\xa0?',\n  'img': 'No image available',\n  'category': 'No category available',\n  'date': '21 avril'},\n 'post-129411': {'name': 'État des lieux des cybermenaces en France\\xa0: phishing, piratage, violation de données…',\n  'img': 'No image available',\n  'category': 'No category available',\n  'date': '24 mars'},\n 'post-147373': {'name': 'Jeu sur l’éco-conception web\\xa0: connaissez-vous les bonnes pratiques\\xa0?',\n  'img': 'No image available',\n  'category': 'No category available',\n  'date': '17 novembre'},\n 'post-144605': {'name': 'Archivage du web\\xa0: comment la BnF préserve la mémoire de l’Internet français',\n  'img': 'No image available',\n  'category': 'No category available',\n  'date': '31 octobre'},\n 'post-127662': {'name': 'Lexique tech\\xa0: 10 mots à connaître en 2023',\n  'img': 'No image available',\n  'category': 'No category available',\n  'date': '9 mars'},\n 'post-147509': {'name': 'Comment facturer à l’international\\xa0: TVA, mentions légales, tout savoir',\n  'img': 'No image available',\n  'category': 'No category available',\n  'date': '21 novembre'},\n 'post-146168': {'name': 'Compte bancaire professionnel\\xa0: quelles obligations selon votre statut juridique\\xa0?',\n  'img': 'No image available',\n  'category': 'No category available',\n  'date': '2 novembre'},\n 'post-127511': {'name': 'Micro-entreprise\\xa0: les règles à respecter et conseils pour la facturation',\n  'img': 'No image available',\n  'category': 'No category available',\n  'date': '7 mars'},\n 'post-127049': {'name': 'French Tech\\xa0: découvrez les 120 startups les plus performantes de 2023',\n  'img': 'No image available',\n  'category': 'No category available',\n  'date': '20 février'},\n 'post-145923': {'name': '10 événements web à ne pas manquer en novembre 2023',\n  'img': 'No image available',\n  'category': 'No category available',\n  'date': '27 octobre'},\n 'post-140333': {'name': 'Conserto lance GreenTrackr, un outil pour mesurer l’impact environnemental des sites web',\n  'img': 'No image available',\n  'category': 'No category available',\n  'date': '19 septembre'},\n 'post-126452': {'name': 'Cahier de tendances du digital\\xa0: téléchargez notre guide 2023',\n  'img': 'No image available',\n  'category': 'No category available',\n  'date': '9 février'},\n 'post-125804': {'name': 'Les 10 tendances tech à suivre en 2023',\n  'img': 'No image available',\n  'category': 'No category available',\n  'date': '30 janvier'}}"
     },
     "execution_count": 149,
     "metadata": {},
     "output_type": "execute_result"
    }
   ],
   "source": [
    "scraping_bdm_comprehension(soup)"
   ]
  },
  {
   "cell_type": "markdown",
   "metadata": {
    "id": "ZJGGk08rVoos"
   },
   "source": [
    "# Partie 3 - Collecte de données de Doctolib - Bonus\n",
    "\n",
    "\n",
    "<img src='https://upload.wikimedia.org/wikipedia/fr/thumb/7/7f/Logo-doctolib.svg/640px-Logo-doctolib.svg.png'>\n",
    "\n",
    "\n",
    "L'objectif est de collecter les données des dentistes référencés sur le sites de Doctolib exerçant à Paris à partir de l'adresse suivante : `https://www.doctolib.fr/dentiste/paris`.\n",
    "\n",
    "Les informations que nous souhaitons collecter sont les suivantes :\n",
    "- le nom du praticien\n",
    "- la profession du praticien\n",
    "- l'adresse du praticien\n",
    "- la ville du praticien\n",
    "- l'image de la fiche Doctolib du praticien"
   ]
  },
  {
   "cell_type": "code",
   "execution_count": 149,
   "metadata": {
    "id": "V6Txf7INVoos",
    "ExecuteTime": {
     "end_time": "2023-12-11T10:46:15.533431500Z",
     "start_time": "2023-12-11T10:46:15.461434300Z"
    }
   },
   "outputs": [],
   "source": []
  },
  {
   "cell_type": "code",
   "execution_count": 149,
   "metadata": {
    "scrolled": false,
    "id": "SKm3nV1-Voos",
    "ExecuteTime": {
     "end_time": "2023-12-11T10:46:15.554441300Z",
     "start_time": "2023-12-11T10:46:15.495468900Z"
    }
   },
   "outputs": [],
   "source": []
  },
  {
   "cell_type": "code",
   "execution_count": 149,
   "metadata": {
    "id": "3WxpAcIdVoos",
    "ExecuteTime": {
     "end_time": "2023-12-11T10:46:15.592433100Z",
     "start_time": "2023-12-11T10:46:15.543467600Z"
    }
   },
   "outputs": [],
   "source": []
  },
  {
   "cell_type": "code",
   "execution_count": 149,
   "metadata": {
    "id": "G_KPKSBwVoos",
    "ExecuteTime": {
     "end_time": "2023-12-11T10:46:15.612438400Z",
     "start_time": "2023-12-11T10:46:15.575431800Z"
    }
   },
   "outputs": [],
   "source": []
  },
  {
   "cell_type": "code",
   "execution_count": 149,
   "metadata": {
    "id": "E8AGhDPbVoos",
    "ExecuteTime": {
     "end_time": "2023-12-11T10:46:15.628432Z",
     "start_time": "2023-12-11T10:46:15.602434400Z"
    }
   },
   "outputs": [],
   "source": []
  },
  {
   "cell_type": "code",
   "execution_count": 149,
   "metadata": {
    "id": "ZFKx5Y_1Voos",
    "ExecuteTime": {
     "end_time": "2023-12-11T10:46:15.646429700Z",
     "start_time": "2023-12-11T10:46:15.631468300Z"
    }
   },
   "outputs": [],
   "source": []
  }
 ],
 "metadata": {
  "colab": {
   "provenance": []
  },
  "kernelspec": {
   "display_name": "Python 3 (ipykernel)",
   "language": "python",
   "name": "python3"
  },
  "language_info": {
   "codemirror_mode": {
    "name": "ipython",
    "version": 3
   },
   "file_extension": ".py",
   "mimetype": "text/x-python",
   "name": "python",
   "nbconvert_exporter": "python",
   "pygments_lexer": "ipython3",
   "version": "3.10.6"
  }
 },
 "nbformat": 4,
 "nbformat_minor": 0
}
